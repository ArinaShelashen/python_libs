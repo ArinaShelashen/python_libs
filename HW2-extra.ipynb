{
 "cells": [
  {
   "cell_type": "code",
   "execution_count": 1,
   "id": "0fb07b95",
   "metadata": {},
   "outputs": [],
   "source": [
    "import numpy as np"
   ]
  },
  {
   "cell_type": "code",
   "execution_count": 7,
   "id": "d3832cd9",
   "metadata": {},
   "outputs": [
    {
     "data": {
      "text/plain": [
       "array([12, 13, 14, 15, 16, 17, 18, 19, 20, 21, 22, 23])"
      ]
     },
     "execution_count": 7,
     "metadata": {},
     "output_type": "execute_result"
    }
   ],
   "source": [
    "# Task1\n",
    "a = np.arange(12,24)\n",
    "a"
   ]
  },
  {
   "cell_type": "code",
   "execution_count": 16,
   "id": "6f52e15c",
   "metadata": {},
   "outputs": [
    {
     "name": "stdout",
     "output_type": "stream",
     "text": [
      "a1:\n",
      " [[12 13 14 15 16 17]\n",
      " [18 19 20 21 22 23]]\n",
      "a2:\n",
      " [[12 13 14 15]\n",
      " [16 17 18 19]\n",
      " [20 21 22 23]]\n",
      "a3:\n",
      " [[12 13 14]\n",
      " [15 16 17]\n",
      " [18 19 20]\n",
      " [21 22 23]]\n",
      "a4:\n",
      " [[12 13]\n",
      " [14 15]\n",
      " [16 17]\n",
      " [18 19]\n",
      " [20 21]\n",
      " [22 23]]\n",
      "a5:\n",
      " [[12]\n",
      " [13]\n",
      " [14]\n",
      " [15]\n",
      " [16]\n",
      " [17]\n",
      " [18]\n",
      " [19]\n",
      " [20]\n",
      " [21]\n",
      " [22]\n",
      " [23]]\n"
     ]
    }
   ],
   "source": [
    "# Task2\n",
    "a1 = a.reshape(2,6)\n",
    "a2 = a.reshape(3,4)\n",
    "a3 = a.reshape(4,3)\n",
    "a4 = a.reshape(6,2)\n",
    "a5 = a.reshape(12,1)\n",
    "print('a1:\\n', a1)\n",
    "print('a2:\\n', a2)\n",
    "print('a3:\\n', a3)\n",
    "print('a4:\\n', a4)\n",
    "print('a5:\\n', a5)"
   ]
  },
  {
   "cell_type": "code",
   "execution_count": 24,
   "id": "a9f5d74b",
   "metadata": {},
   "outputs": [
    {
     "name": "stdout",
     "output_type": "stream",
     "text": [
      "a1:\n",
      " [[12 13 14 15 16 17]\n",
      " [18 19 20 21 22 23]]\n",
      "a2:\n",
      " [[12 13 14 15]\n",
      " [16 17 18 19]\n",
      " [20 21 22 23]]\n",
      "a3:\n",
      " [[12]\n",
      " [13]\n",
      " [14]\n",
      " [15]\n",
      " [16]\n",
      " [17]\n",
      " [18]\n",
      " [19]\n",
      " [20]\n",
      " [21]\n",
      " [22]\n",
      " [23]]\n",
      "a4:\n",
      " [[12 13]\n",
      " [14 15]\n",
      " [16 17]\n",
      " [18 19]\n",
      " [20 21]\n",
      " [22 23]]\n",
      "a5:\n",
      " [[12 13 14]\n",
      " [15 16 17]\n",
      " [18 19 20]\n",
      " [21 22 23]]\n"
     ]
    }
   ],
   "source": [
    "# Task3\n",
    "a1 = a.reshape(2,-1)\n",
    "a2 = a.reshape(3,-1)\n",
    "a3 = a.reshape(12,-1)\n",
    "a4 = a.reshape(-1,2)\n",
    "a5 = a.reshape(-1,3)\n",
    "print('a1:\\n', a1)\n",
    "print('a2:\\n', a2)\n",
    "print('a3:\\n', a3)\n",
    "print('a4:\\n', a4)\n",
    "print('a5:\\n', a5)"
   ]
  },
  {
   "cell_type": "markdown",
   "id": "67b9f9b7",
   "metadata": {},
   "source": [
    "##### Task4 \n",
    "Массив из 1 столбца и 12 строк можно назвать одномерным в общем случае (если мы нарисуем его на бумаге), но не в numpy, т.к. для обращения к конкретному элементу массива необходимо задавать два параметра (номер строки и столбца), а не один (как в случае массива с 12 столбцами и 1 строкой."
   ]
  },
  {
   "cell_type": "code",
   "execution_count": 40,
   "id": "cbddc443",
   "metadata": {},
   "outputs": [
    {
     "name": "stdout",
     "output_type": "stream",
     "text": [
      "b:\n",
      " [[ 0.96234626 -0.13237741  0.04441369 -2.37403032]\n",
      " [ 1.30569547 -0.67887713 -0.0442243   0.95212031]\n",
      " [ 1.33566074  0.34118614  0.02231746  0.32177391]]\n",
      "c:\n",
      " [ 0.96234626 -0.13237741  0.04441369 -2.37403032  1.30569547 -0.67887713\n",
      " -0.0442243   0.95212031  1.33566074  0.34118614  0.02231746  0.32177391]\n",
      "Size b:  12 \n",
      "Size c:  12\n"
     ]
    }
   ],
   "source": [
    "# Task5\n",
    "b = np.random.randn(3,4)\n",
    "print('b:\\n',b)\n",
    "c = b.flatten()\n",
    "print('c:\\n',c)\n",
    "print('Size b: ', np.size(b),'\\nSize c: ',np.size(c))"
   ]
  },
  {
   "cell_type": "code",
   "execution_count": 52,
   "id": "4c72c759",
   "metadata": {},
   "outputs": [
    {
     "name": "stdout",
     "output_type": "stream",
     "text": [
      "[20 18 16 14 12 10  8  6  4  2] <class 'numpy.ndarray'>\n"
     ]
    }
   ],
   "source": [
    "# Task6\n",
    "a = np.arange(20, 0, -2)\n",
    "a\n",
    "print(a, type(a))"
   ]
  },
  {
   "cell_type": "code",
   "execution_count": 53,
   "id": "fc07a92f",
   "metadata": {},
   "outputs": [
    {
     "name": "stdout",
     "output_type": "stream",
     "text": [
      "[[20 18 16 14 12 10  8  6  4  2]] <class 'numpy.ndarray'>\n"
     ]
    }
   ],
   "source": [
    "# Task7\n",
    "b = np.array(a).reshape(1,10)\n",
    "b\n",
    "print(b, type(b))"
   ]
  },
  {
   "cell_type": "markdown",
   "id": "36927b11",
   "metadata": {},
   "source": [
    "??? В чём разница ???"
   ]
  },
  {
   "cell_type": "code",
   "execution_count": 67,
   "id": "032257df",
   "metadata": {},
   "outputs": [
    {
     "name": "stdout",
     "output_type": "stream",
     "text": [
      "[[0. 0.]\n",
      " [0. 0.]\n",
      " [1. 1.]\n",
      " [1. 1.]\n",
      " [1. 1.]] \n",
      "\n",
      "Size c:  10\n"
     ]
    }
   ],
   "source": [
    "# Task8\n",
    "a = np.zeros((2,2))\n",
    "b = np.ones((3,2))\n",
    "c = np.vstack((a,b))\n",
    "print(c, '\\n\\nSize c: ',np.size(c))\n"
   ]
  },
  {
   "cell_type": "code",
   "execution_count": 80,
   "id": "85100cc7",
   "metadata": {},
   "outputs": [
    {
     "name": "stdout",
     "output_type": "stream",
     "text": [
      "[ 0  1  2  3  4  5  6  7  8  9 10 11]\n",
      "[[ 0  1  2]\n",
      " [ 3  4  5]\n",
      " [ 6  7  8]\n",
      " [ 9 10 11]]\n",
      "[[ 0  3  6  9]\n",
      " [ 1  4  7 10]\n",
      " [ 2  5  8 11]]\n",
      "[[  5  14  23  32]\n",
      " [ 14  50  86 122]\n",
      " [ 23  86 149 212]\n",
      " [ 32 122 212 302]] \n",
      "Size B:  16\n"
     ]
    }
   ],
   "source": [
    "# Task9\n",
    "a = np.arange(0,12)\n",
    "print(a)\n",
    "A = a.reshape(4,3)\n",
    "print(A)\n",
    "At = A.T\n",
    "print(At)\n",
    "B = A.dot(At)\n",
    "print(B,'\\nSize B: ', B.size)"
   ]
  },
  {
   "cell_type": "code",
   "execution_count": 92,
   "id": "5720d643",
   "metadata": {},
   "outputs": [
    {
     "data": {
      "text/plain": [
       "array([0.37454012, 0.95071431, 0.73199394, 0.59865848])"
      ]
     },
     "execution_count": 92,
     "metadata": {},
     "output_type": "execute_result"
    }
   ],
   "source": [
    "# Task10\n",
    "np.random.seed(42)\n",
    "a = np.random.random(4)\n",
    "a"
   ]
  },
  {
   "cell_type": "code",
   "execution_count": 99,
   "id": "a5ba6d78",
   "metadata": {},
   "outputs": [
    {
     "data": {
      "text/plain": [
       "array([ 8,  6,  1,  3,  8, 11, 13,  1,  9,  8,  9,  4,  1,  3, 11, 14])"
      ]
     },
     "execution_count": 99,
     "metadata": {},
     "output_type": "execute_result"
    }
   ],
   "source": [
    "# Task11\n",
    "# Соблюдается ли в randint равномерное распределение?\n",
    "c = np.random.randint(0,16,16)\n",
    "c"
   ]
  },
  {
   "cell_type": "code",
   "execution_count": 110,
   "id": "1141942f",
   "metadata": {},
   "outputs": [
    {
     "name": "stdout",
     "output_type": "stream",
     "text": [
      "[[ 8  6  1  3]\n",
      " [ 8 11 13  1]\n",
      " [ 9  8  9  4]\n",
      " [ 1  3 11 14]]\n",
      "[[ 85  74  33  62]\n",
      " [ 94 160 216 132]\n",
      " [113 166 239 252]\n",
      " [ 42 152 322 442]]\n",
      "Определитель:  53135600.0 \n",
      "Ранг:  4 \n",
      "D_inv:\n",
      " [[-0.02625885 -0.03231355  0.0641122  -0.02321908]\n",
      " [ 0.05122404  0.04548024 -0.08710356  0.02889325]\n",
      " [-0.0311392  -0.01318589  0.03972252 -0.01434142]\n",
      " [ 0.0075648  -0.00296374 -0.00507607  0.00498047]]\n"
     ]
    },
    {
     "data": {
      "text/plain": [
       "0.9999999999999999"
      ]
     },
     "execution_count": 110,
     "metadata": {},
     "output_type": "execute_result"
    }
   ],
   "source": [
    "# Task12\n",
    "C = c.reshape(4,4)\n",
    "print(C)\n",
    "D = C*10 + B\n",
    "print(D)\n",
    "d_det = np.linalg.det(D)\n",
    "d_rank = np.linalg.matrix_rank(D)\n",
    "D_inv = np.linalg.inv(D)\n",
    "print(f'Определитель: ',d_det.round(),'\\nРанг: ',d_rank,'\\nD_inv:\\n',D_inv)"
   ]
  }
 ],
 "metadata": {
  "kernelspec": {
   "display_name": "Python 3 (ipykernel)",
   "language": "python",
   "name": "python3"
  },
  "language_info": {
   "codemirror_mode": {
    "name": "ipython",
    "version": 3
   },
   "file_extension": ".py",
   "mimetype": "text/x-python",
   "name": "python",
   "nbconvert_exporter": "python",
   "pygments_lexer": "ipython3",
   "version": "3.9.6"
  }
 },
 "nbformat": 4,
 "nbformat_minor": 5
}
