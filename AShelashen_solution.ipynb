{
 "cells": [
  {
   "cell_type": "markdown",
   "id": "f5f33f63",
   "metadata": {},
   "source": [
    "#### Подключение библиотек и скриптов"
   ]
  },
  {
   "cell_type": "code",
   "execution_count": 2235,
   "id": "ba6dad26",
   "metadata": {},
   "outputs": [],
   "source": [
    "import pandas as pd\n",
    "import numpy as np\n",
    "import pickle\n",
    "from pathlib import Path\n",
    "import random\n",
    "\n",
    "from sklearn.model_selection import train_test_split, ShuffleSplit, cross_val_score, learning_curve\n",
    "from sklearn.metrics import classification_report, f1_score, precision_score, recall_score\n",
    "from sklearn.model_selection import KFold, StratifiedKFold, GridSearchCV, RandomizedSearchCV\n",
    "from sklearn.preprocessing import StandardScaler, MinMaxScaler\n",
    "\n",
    "\n",
    "from sklearn.neighbors import KNeighborsClassifier\n",
    "\n",
    "\n",
    "from sklearn.linear_model import LogisticRegression, LogisticRegressionCV\n",
    "from sklearn.svm import SVC\n",
    "import xgboost as xgb\n",
    "import catboost as catb\n",
    "import lightgbm as lgbm\n",
    "\n",
    "import seaborn as sns\n",
    "from matplotlib import pyplot as plt\n",
    "%matplotlib inline\n",
    "\n",
    "from scipy.stats import shapiro\n",
    "from scipy.stats import probplot\n",
    "from scipy.stats import mannwhitneyu\n",
    "from scipy.stats import chi2_contingency\n",
    "\n",
    "import warnings\n",
    "warnings.filterwarnings('ignore')"
   ]
  },
  {
   "cell_type": "code",
   "execution_count": 2236,
   "id": "9eec51ad",
   "metadata": {},
   "outputs": [],
   "source": [
    "def get_classification_report(y_train_true, y_train_pred, y_test_true, y_test_pred):\n",
    "    print('TRAIN\\n\\n' + classification_report(y_train_true, y_train_pred))\n",
    "    print('TEST\\n\\n' + classification_report(y_test_true, y_test_pred))\n",
    "    print('CONFUSION MATRIX\\n')\n",
    "    print(pd.crosstab(y_test_true, y_test_pred))"
   ]
  },
  {
   "cell_type": "code",
   "execution_count": 2237,
   "id": "ac99f52c",
   "metadata": {},
   "outputs": [],
   "source": [
    "def evaluate_preds(model, X_train, X_val, y_train, y_val):\n",
    "    y_train_pred = model.predict(X_train)\n",
    "    y_val_pred = model.predict(X_val)\n",
    "\n",
    "    get_classification_report(y_train, y_train_pred, y_val, y_val_pred)"
   ]
  },
  {
   "cell_type": "code",
   "execution_count": 2238,
   "id": "49836050",
   "metadata": {},
   "outputs": [],
   "source": [
    "def show_learning_curve_plot(estimator, X, y, cv=3, n_jobs=-1, train_sizes=np.linspace(.1, 1.0, 5)):\n",
    "\n",
    "    train_sizes, train_scores, test_scores = learning_curve(estimator, X, y, \n",
    "                                                            cv=cv, \n",
    "                                                            scoring='f1',\n",
    "                                                            train_sizes=train_sizes, \n",
    "                                                            n_jobs=n_jobs)\n",
    "    train_scores_mean = np.mean(train_scores, axis=1)\n",
    "    train_scores_std = np.std(train_scores, axis=1)\n",
    "    test_scores_mean = np.mean(test_scores, axis=1)\n",
    "    test_scores_std = np.std(test_scores, axis=1)\n",
    "\n",
    "    plt.figure(figsize=(15,8))\n",
    "    plt.fill_between(train_sizes, train_scores_mean - train_scores_std,\n",
    "                     train_scores_mean + train_scores_std, alpha=0.1, color=\"r\")\n",
    "    plt.fill_between(train_sizes, test_scores_mean - test_scores_std,\n",
    "                     test_scores_mean + test_scores_std, alpha=0.1, color=\"g\")\n",
    "    plt.plot(train_sizes, train_scores_mean, 'o-', color=\"r\",\n",
    "             label=\"Training score\")\n",
    "    plt.plot(train_sizes, test_scores_mean, 'o-', color=\"g\",\n",
    "             label=\"Cross-validation score\")\n",
    "\n",
    "    plt.title(f\"Learning curves ({type(estimator).__name__})\")\n",
    "    plt.xlabel(\"Training examples\")\n",
    "    plt.ylabel(\"Score\")     \n",
    "    plt.legend(loc=\"best\")\n",
    "    plt.grid()\n",
    "    plt.show()"
   ]
  },
  {
   "cell_type": "code",
   "execution_count": 2239,
   "id": "e94daeae",
   "metadata": {},
   "outputs": [],
   "source": [
    "def show_proba_calibration_plots(y_predicted_probs, y_true_labels):\n",
    "    preds_with_true_labels = np.array(list(zip(y_predicted_probs, y_true_labels)))\n",
    "\n",
    "    thresholds = []\n",
    "    precisions = []\n",
    "    recalls = []\n",
    "    f1_scores = []\n",
    "\n",
    "    for threshold in np.linspace(0.1, 0.9, 9):\n",
    "        thresholds.append(threshold)\n",
    "        precisions.append(precision_score(y_true_labels, list(map(int, y_predicted_probs > threshold))))\n",
    "        recalls.append(recall_score(y_true_labels, list(map(int, y_predicted_probs > threshold))))\n",
    "        f1_scores.append(f1_score(y_true_labels, list(map(int, y_predicted_probs > threshold))))\n",
    "\n",
    "    scores_table = pd.DataFrame({'f1':f1_scores,\n",
    "                                 'precision':precisions,\n",
    "                                 'recall':recalls,\n",
    "                                 'probability':thresholds}).sort_values('f1', ascending=False).round(3)\n",
    "  \n",
    "    figure = plt.figure(figsize = (15, 5))\n",
    "\n",
    "    plt1 = figure.add_subplot(121)\n",
    "    plt1.plot(thresholds, precisions, label='Precision', linewidth=4)\n",
    "    plt1.plot(thresholds, recalls, label='Recall', linewidth=4)\n",
    "    plt1.plot(thresholds, f1_scores, label='F1', linewidth=4)\n",
    "    plt1.set_ylabel('Scores')\n",
    "    plt1.set_xlabel('Probability threshold')\n",
    "    plt1.set_title('Probabilities threshold calibration')\n",
    "    plt1.legend(bbox_to_anchor=(0.25, 0.25))   \n",
    "    plt1.table(cellText = scores_table.values,\n",
    "               colLabels = scores_table.columns, \n",
    "               colLoc = 'center', cellLoc = 'center', loc = 'bottom', bbox = [0, -1.3, 1, 1])\n",
    "\n",
    "    plt2 = figure.add_subplot(122)\n",
    "    plt2.hist(preds_with_true_labels[preds_with_true_labels[:, 1] == 0][:, 0], \n",
    "              label='Another class', color='royalblue', alpha=1)\n",
    "    plt2.hist(preds_with_true_labels[preds_with_true_labels[:, 1] == 1][:, 0], \n",
    "              label='Main class', color='darkcyan', alpha=0.8)\n",
    "    plt2.set_ylabel('Number of examples')\n",
    "    plt2.set_xlabel('Probabilities')\n",
    "    plt2.set_title('Probability histogram')\n",
    "    plt2.legend(bbox_to_anchor=(1, 1))\n",
    "\n",
    "    plt.show()"
   ]
  },
  {
   "cell_type": "code",
   "execution_count": 2240,
   "id": "6f70117b",
   "metadata": {},
   "outputs": [],
   "source": [
    "def show_feature_importances(feature_names, feature_importances, get_top=None):\n",
    "    feature_importances = pd.DataFrame({'feature': feature_names, 'importance': feature_importances})\n",
    "    feature_importances = feature_importances.sort_values('importance', ascending=False)\n",
    "       \n",
    "    plt.figure(figsize = (20, len(feature_importances) * 0.355))\n",
    "    \n",
    "    sns.barplot(feature_importances['importance'], feature_importances['feature'])\n",
    "    \n",
    "    plt.xlabel('Importance')\n",
    "    plt.title('Importance of features')\n",
    "    plt.show()\n",
    "    \n",
    "    if get_top is not None:\n",
    "        return feature_importances['feature'][:get_top].tolist()"
   ]
  },
  {
   "cell_type": "code",
   "execution_count": 2241,
   "id": "438598a9",
   "metadata": {},
   "outputs": [],
   "source": [
    "def balance_df_by_target(df, target_name, method='over'):\n",
    "\n",
    "    assert method in ['over', 'under', 'tomek', 'smote', 'combination'], 'Неверный метод сэмплирования'\n",
    "    \n",
    "    target_counts = df[target_name].value_counts()\n",
    "\n",
    "    major_class_name = target_counts.argmax()\n",
    "    minor_class_name = target_counts.argmin()\n",
    "\n",
    "    disbalance_coeff = int(target_counts[major_class_name] / target_counts[minor_class_name]) - 1\n",
    "    if method == 'over':\n",
    "        for i in range(disbalance_coeff):\n",
    "            sample = df[df[target_name] == minor_class_name].sample(target_counts[minor_class_name])\n",
    "            df = df.append(sample, ignore_index=True)\n",
    "            \n",
    "    elif method == 'under':\n",
    "        df_ = df.copy()\n",
    "        df = df_[df_[target_name] == minor_class_name]\n",
    "        tmp = df_[df_[target_name] == major_class_name]\n",
    "        df = df.append(tmp.iloc[\n",
    "            np.random.randint(0, tmp.shape[0], target_counts[minor_class_name])\n",
    "        ], ignore_index=True)\n",
    "\n",
    "    elif method == 'tomek':\n",
    "        from imblearn.under_sampling import TomekLinks\n",
    "        tl = TomekLinks()\n",
    "        X_tomek, y_tomek = tl.fit_resample(df.drop(columns=target_name), df[target_name])\n",
    "        df = pd.concat([X_tomek, y_tomek], axis=1)\n",
    "    \n",
    "    elif method == 'smote':\n",
    "        from imblearn.over_sampling import SMOTE\n",
    "        smote = SMOTE()\n",
    "        X_smote, y_smote = smote.fit_resample(df.drop(columns=target_name), df[target_name])\n",
    "        df = pd.concat([X_smote, y_smote], axis=1)\n",
    "        \n",
    "    elif method == 'combination':\n",
    "        df_ = df.copy()\n",
    "        df = df_[df_[target_name] == minor_class_name]\n",
    "        tmp = df_[df_[target_name] == major_class_name]\n",
    "        df = df.append(tmp.iloc[\n",
    "            np.random.randint(0, tmp.shape[0], int(target_counts[minor_class_name]*2))\n",
    "        ], ignore_index=True)\n",
    "\n",
    "        disbalance_coeff = int(target_counts[major_class_name] / target_counts[minor_class_name]) - 1\n",
    "        for i in range(disbalance_coeff):\n",
    "            sample = df[df[target_name] == minor_class_name].sample(target_counts[minor_class_name])\n",
    "            df = df.append(sample, ignore_index=True)\n",
    "\n",
    "    return df.sample(frac=1) "
   ]
  },
  {
   "cell_type": "markdown",
   "id": "5792c799",
   "metadata": {},
   "source": [
    "#### Пути к директориям и файлам"
   ]
  },
  {
   "cell_type": "code",
   "execution_count": 2242,
   "id": "db5449e5",
   "metadata": {},
   "outputs": [],
   "source": [
    "DATA_ROOT = Path('./data/course project/')\n",
    "MODELS_PATH = Path('./models/')\n",
    "\n",
    "# input\n",
    "TRAIN_DATASET_PATH = DATA_ROOT / 'course_project_train.csv'\n",
    "PREP_DATASET_PATH = DATA_ROOT / 'training_project_data_prep.csv'\n",
    "\n",
    "# output\n",
    "TRAIN_FULL_PATH = 'training_project_train_full.csv'\n",
    "TRAIN_PART_PATH = 'training_project_train_part_b.csv'\n",
    "TEST_PART_PATH = 'training_project_test_part.csv'\n",
    "\n",
    "SCALER_FILE_PATH = MODELS_PATH / 'scaler.pkl'\n",
    "MODEL_FILE_PATH = MODELS_PATH / 'model.pkl'\n",
    "\n",
    "#test\n",
    "TEST_DATASET_PATH = DATA_ROOT / 'course_project_test.csv'"
   ]
  },
  {
   "cell_type": "markdown",
   "id": "27b1d72b",
   "metadata": {},
   "source": [
    "### Загрузка данных"
   ]
  },
  {
   "cell_type": "code",
   "execution_count": 2243,
   "id": "4871a128",
   "metadata": {},
   "outputs": [
    {
     "data": {
      "text/html": [
       "<div>\n",
       "<style scoped>\n",
       "    .dataframe tbody tr th:only-of-type {\n",
       "        vertical-align: middle;\n",
       "    }\n",
       "\n",
       "    .dataframe tbody tr th {\n",
       "        vertical-align: top;\n",
       "    }\n",
       "\n",
       "    .dataframe thead th {\n",
       "        text-align: right;\n",
       "    }\n",
       "</style>\n",
       "<table border=\"1\" class=\"dataframe\">\n",
       "  <thead>\n",
       "    <tr style=\"text-align: right;\">\n",
       "      <th></th>\n",
       "      <th>Home Ownership</th>\n",
       "      <th>Annual Income</th>\n",
       "      <th>Years in current job</th>\n",
       "      <th>Tax Liens</th>\n",
       "      <th>Number of Open Accounts</th>\n",
       "      <th>Years of Credit History</th>\n",
       "      <th>Maximum Open Credit</th>\n",
       "      <th>Number of Credit Problems</th>\n",
       "      <th>Months since last delinquent</th>\n",
       "      <th>Bankruptcies</th>\n",
       "      <th>Purpose</th>\n",
       "      <th>Term</th>\n",
       "      <th>Current Loan Amount</th>\n",
       "      <th>Current Credit Balance</th>\n",
       "      <th>Monthly Debt</th>\n",
       "      <th>Credit Score</th>\n",
       "      <th>Credit Default</th>\n",
       "    </tr>\n",
       "  </thead>\n",
       "  <tbody>\n",
       "    <tr>\n",
       "      <th>0</th>\n",
       "      <td>Own Home</td>\n",
       "      <td>482087.0</td>\n",
       "      <td>NaN</td>\n",
       "      <td>0.0</td>\n",
       "      <td>11.0</td>\n",
       "      <td>26.3</td>\n",
       "      <td>685960.0</td>\n",
       "      <td>1.0</td>\n",
       "      <td>NaN</td>\n",
       "      <td>1.0</td>\n",
       "      <td>debt consolidation</td>\n",
       "      <td>Short Term</td>\n",
       "      <td>99999999.0</td>\n",
       "      <td>47386.0</td>\n",
       "      <td>7914.0</td>\n",
       "      <td>749.0</td>\n",
       "      <td>0</td>\n",
       "    </tr>\n",
       "    <tr>\n",
       "      <th>1</th>\n",
       "      <td>Own Home</td>\n",
       "      <td>1025487.0</td>\n",
       "      <td>10+ years</td>\n",
       "      <td>0.0</td>\n",
       "      <td>15.0</td>\n",
       "      <td>15.3</td>\n",
       "      <td>1181730.0</td>\n",
       "      <td>0.0</td>\n",
       "      <td>NaN</td>\n",
       "      <td>0.0</td>\n",
       "      <td>debt consolidation</td>\n",
       "      <td>Long Term</td>\n",
       "      <td>264968.0</td>\n",
       "      <td>394972.0</td>\n",
       "      <td>18373.0</td>\n",
       "      <td>737.0</td>\n",
       "      <td>1</td>\n",
       "    </tr>\n",
       "    <tr>\n",
       "      <th>2</th>\n",
       "      <td>Home Mortgage</td>\n",
       "      <td>751412.0</td>\n",
       "      <td>8 years</td>\n",
       "      <td>0.0</td>\n",
       "      <td>11.0</td>\n",
       "      <td>35.0</td>\n",
       "      <td>1182434.0</td>\n",
       "      <td>0.0</td>\n",
       "      <td>NaN</td>\n",
       "      <td>0.0</td>\n",
       "      <td>debt consolidation</td>\n",
       "      <td>Short Term</td>\n",
       "      <td>99999999.0</td>\n",
       "      <td>308389.0</td>\n",
       "      <td>13651.0</td>\n",
       "      <td>742.0</td>\n",
       "      <td>0</td>\n",
       "    </tr>\n",
       "    <tr>\n",
       "      <th>3</th>\n",
       "      <td>Own Home</td>\n",
       "      <td>805068.0</td>\n",
       "      <td>6 years</td>\n",
       "      <td>0.0</td>\n",
       "      <td>8.0</td>\n",
       "      <td>22.5</td>\n",
       "      <td>147400.0</td>\n",
       "      <td>1.0</td>\n",
       "      <td>NaN</td>\n",
       "      <td>1.0</td>\n",
       "      <td>debt consolidation</td>\n",
       "      <td>Short Term</td>\n",
       "      <td>121396.0</td>\n",
       "      <td>95855.0</td>\n",
       "      <td>11338.0</td>\n",
       "      <td>694.0</td>\n",
       "      <td>0</td>\n",
       "    </tr>\n",
       "    <tr>\n",
       "      <th>4</th>\n",
       "      <td>Rent</td>\n",
       "      <td>776264.0</td>\n",
       "      <td>8 years</td>\n",
       "      <td>0.0</td>\n",
       "      <td>13.0</td>\n",
       "      <td>13.6</td>\n",
       "      <td>385836.0</td>\n",
       "      <td>1.0</td>\n",
       "      <td>NaN</td>\n",
       "      <td>0.0</td>\n",
       "      <td>debt consolidation</td>\n",
       "      <td>Short Term</td>\n",
       "      <td>125840.0</td>\n",
       "      <td>93309.0</td>\n",
       "      <td>7180.0</td>\n",
       "      <td>719.0</td>\n",
       "      <td>0</td>\n",
       "    </tr>\n",
       "  </tbody>\n",
       "</table>\n",
       "</div>"
      ],
      "text/plain": [
       "  Home Ownership  Annual Income Years in current job  Tax Liens  \\\n",
       "0       Own Home       482087.0                  NaN        0.0   \n",
       "1       Own Home      1025487.0            10+ years        0.0   \n",
       "2  Home Mortgage       751412.0              8 years        0.0   \n",
       "3       Own Home       805068.0              6 years        0.0   \n",
       "4           Rent       776264.0              8 years        0.0   \n",
       "\n",
       "   Number of Open Accounts  Years of Credit History  Maximum Open Credit  \\\n",
       "0                     11.0                     26.3             685960.0   \n",
       "1                     15.0                     15.3            1181730.0   \n",
       "2                     11.0                     35.0            1182434.0   \n",
       "3                      8.0                     22.5             147400.0   \n",
       "4                     13.0                     13.6             385836.0   \n",
       "\n",
       "   Number of Credit Problems  Months since last delinquent  Bankruptcies  \\\n",
       "0                        1.0                           NaN           1.0   \n",
       "1                        0.0                           NaN           0.0   \n",
       "2                        0.0                           NaN           0.0   \n",
       "3                        1.0                           NaN           1.0   \n",
       "4                        1.0                           NaN           0.0   \n",
       "\n",
       "              Purpose        Term  Current Loan Amount  \\\n",
       "0  debt consolidation  Short Term           99999999.0   \n",
       "1  debt consolidation   Long Term             264968.0   \n",
       "2  debt consolidation  Short Term           99999999.0   \n",
       "3  debt consolidation  Short Term             121396.0   \n",
       "4  debt consolidation  Short Term             125840.0   \n",
       "\n",
       "   Current Credit Balance  Monthly Debt  Credit Score  Credit Default  \n",
       "0                 47386.0        7914.0         749.0               0  \n",
       "1                394972.0       18373.0         737.0               1  \n",
       "2                308389.0       13651.0         742.0               0  \n",
       "3                 95855.0       11338.0         694.0               0  \n",
       "4                 93309.0        7180.0         719.0               0  "
      ]
     },
     "execution_count": 2243,
     "metadata": {},
     "output_type": "execute_result"
    }
   ],
   "source": [
    "train_df = pd.read_csv(TRAIN_DATASET_PATH)\n",
    "train_df.head()"
   ]
  },
  {
   "cell_type": "code",
   "execution_count": 2244,
   "id": "3ea64708",
   "metadata": {},
   "outputs": [
    {
     "data": {
      "text/plain": [
       "(7500, 17)"
      ]
     },
     "execution_count": 2244,
     "metadata": {},
     "output_type": "execute_result"
    }
   ],
   "source": [
    "train_df.shape"
   ]
  },
  {
   "cell_type": "code",
   "execution_count": 2245,
   "id": "5c10d568",
   "metadata": {},
   "outputs": [
    {
     "name": "stdout",
     "output_type": "stream",
     "text": [
      "<class 'pandas.core.frame.DataFrame'>\n",
      "RangeIndex: 7500 entries, 0 to 7499\n",
      "Data columns (total 17 columns):\n",
      " #   Column                        Non-Null Count  Dtype  \n",
      "---  ------                        --------------  -----  \n",
      " 0   Home Ownership                7500 non-null   object \n",
      " 1   Annual Income                 5943 non-null   float64\n",
      " 2   Years in current job          7129 non-null   object \n",
      " 3   Tax Liens                     7500 non-null   float64\n",
      " 4   Number of Open Accounts       7500 non-null   float64\n",
      " 5   Years of Credit History       7500 non-null   float64\n",
      " 6   Maximum Open Credit           7500 non-null   float64\n",
      " 7   Number of Credit Problems     7500 non-null   float64\n",
      " 8   Months since last delinquent  3419 non-null   float64\n",
      " 9   Bankruptcies                  7486 non-null   float64\n",
      " 10  Purpose                       7500 non-null   object \n",
      " 11  Term                          7500 non-null   object \n",
      " 12  Current Loan Amount           7500 non-null   float64\n",
      " 13  Current Credit Balance        7500 non-null   float64\n",
      " 14  Monthly Debt                  7500 non-null   float64\n",
      " 15  Credit Score                  5943 non-null   float64\n",
      " 16  Credit Default                7500 non-null   int64  \n",
      "dtypes: float64(12), int64(1), object(4)\n",
      "memory usage: 996.2+ KB\n"
     ]
    }
   ],
   "source": [
    "train_df.info()"
   ]
  },
  {
   "cell_type": "code",
   "execution_count": 2246,
   "id": "1524c6bc",
   "metadata": {},
   "outputs": [
    {
     "data": {
      "text/html": [
       "<div>\n",
       "<style scoped>\n",
       "    .dataframe tbody tr th:only-of-type {\n",
       "        vertical-align: middle;\n",
       "    }\n",
       "\n",
       "    .dataframe tbody tr th {\n",
       "        vertical-align: top;\n",
       "    }\n",
       "\n",
       "    .dataframe thead th {\n",
       "        text-align: right;\n",
       "    }\n",
       "</style>\n",
       "<table border=\"1\" class=\"dataframe\">\n",
       "  <thead>\n",
       "    <tr style=\"text-align: right;\">\n",
       "      <th></th>\n",
       "      <th>Home Ownership</th>\n",
       "      <th>Annual Income</th>\n",
       "      <th>Years in current job</th>\n",
       "      <th>Tax Liens</th>\n",
       "      <th>Number of Open Accounts</th>\n",
       "      <th>Years of Credit History</th>\n",
       "      <th>Maximum Open Credit</th>\n",
       "      <th>Number of Credit Problems</th>\n",
       "      <th>Months since last delinquent</th>\n",
       "      <th>Bankruptcies</th>\n",
       "      <th>Purpose</th>\n",
       "      <th>Term</th>\n",
       "      <th>Current Loan Amount</th>\n",
       "      <th>Current Credit Balance</th>\n",
       "      <th>Monthly Debt</th>\n",
       "      <th>Credit Score</th>\n",
       "    </tr>\n",
       "  </thead>\n",
       "  <tbody>\n",
       "    <tr>\n",
       "      <th>0</th>\n",
       "      <td>Rent</td>\n",
       "      <td>NaN</td>\n",
       "      <td>4 years</td>\n",
       "      <td>0.0</td>\n",
       "      <td>9.0</td>\n",
       "      <td>12.5</td>\n",
       "      <td>220968.0</td>\n",
       "      <td>0.0</td>\n",
       "      <td>70.0</td>\n",
       "      <td>0.0</td>\n",
       "      <td>debt consolidation</td>\n",
       "      <td>Short Term</td>\n",
       "      <td>162470.0</td>\n",
       "      <td>105906.0</td>\n",
       "      <td>6813.0</td>\n",
       "      <td>NaN</td>\n",
       "    </tr>\n",
       "    <tr>\n",
       "      <th>1</th>\n",
       "      <td>Rent</td>\n",
       "      <td>231838.0</td>\n",
       "      <td>1 year</td>\n",
       "      <td>0.0</td>\n",
       "      <td>6.0</td>\n",
       "      <td>32.7</td>\n",
       "      <td>55946.0</td>\n",
       "      <td>0.0</td>\n",
       "      <td>8.0</td>\n",
       "      <td>0.0</td>\n",
       "      <td>educational expenses</td>\n",
       "      <td>Short Term</td>\n",
       "      <td>78298.0</td>\n",
       "      <td>46037.0</td>\n",
       "      <td>2318.0</td>\n",
       "      <td>699.0</td>\n",
       "    </tr>\n",
       "    <tr>\n",
       "      <th>2</th>\n",
       "      <td>Home Mortgage</td>\n",
       "      <td>1152540.0</td>\n",
       "      <td>3 years</td>\n",
       "      <td>0.0</td>\n",
       "      <td>10.0</td>\n",
       "      <td>13.7</td>\n",
       "      <td>204600.0</td>\n",
       "      <td>0.0</td>\n",
       "      <td>NaN</td>\n",
       "      <td>0.0</td>\n",
       "      <td>debt consolidation</td>\n",
       "      <td>Short Term</td>\n",
       "      <td>200178.0</td>\n",
       "      <td>146490.0</td>\n",
       "      <td>18729.0</td>\n",
       "      <td>7260.0</td>\n",
       "    </tr>\n",
       "    <tr>\n",
       "      <th>3</th>\n",
       "      <td>Home Mortgage</td>\n",
       "      <td>1220313.0</td>\n",
       "      <td>10+ years</td>\n",
       "      <td>0.0</td>\n",
       "      <td>16.0</td>\n",
       "      <td>17.0</td>\n",
       "      <td>456302.0</td>\n",
       "      <td>0.0</td>\n",
       "      <td>70.0</td>\n",
       "      <td>0.0</td>\n",
       "      <td>debt consolidation</td>\n",
       "      <td>Short Term</td>\n",
       "      <td>217382.0</td>\n",
       "      <td>213199.0</td>\n",
       "      <td>27559.0</td>\n",
       "      <td>739.0</td>\n",
       "    </tr>\n",
       "    <tr>\n",
       "      <th>4</th>\n",
       "      <td>Home Mortgage</td>\n",
       "      <td>2340952.0</td>\n",
       "      <td>6 years</td>\n",
       "      <td>0.0</td>\n",
       "      <td>11.0</td>\n",
       "      <td>23.6</td>\n",
       "      <td>1207272.0</td>\n",
       "      <td>0.0</td>\n",
       "      <td>NaN</td>\n",
       "      <td>0.0</td>\n",
       "      <td>debt consolidation</td>\n",
       "      <td>Long Term</td>\n",
       "      <td>777634.0</td>\n",
       "      <td>425391.0</td>\n",
       "      <td>42605.0</td>\n",
       "      <td>706.0</td>\n",
       "    </tr>\n",
       "  </tbody>\n",
       "</table>\n",
       "</div>"
      ],
      "text/plain": [
       "  Home Ownership  Annual Income Years in current job  Tax Liens  \\\n",
       "0           Rent            NaN              4 years        0.0   \n",
       "1           Rent       231838.0               1 year        0.0   \n",
       "2  Home Mortgage      1152540.0              3 years        0.0   \n",
       "3  Home Mortgage      1220313.0            10+ years        0.0   \n",
       "4  Home Mortgage      2340952.0              6 years        0.0   \n",
       "\n",
       "   Number of Open Accounts  Years of Credit History  Maximum Open Credit  \\\n",
       "0                      9.0                     12.5             220968.0   \n",
       "1                      6.0                     32.7              55946.0   \n",
       "2                     10.0                     13.7             204600.0   \n",
       "3                     16.0                     17.0             456302.0   \n",
       "4                     11.0                     23.6            1207272.0   \n",
       "\n",
       "   Number of Credit Problems  Months since last delinquent  Bankruptcies  \\\n",
       "0                        0.0                          70.0           0.0   \n",
       "1                        0.0                           8.0           0.0   \n",
       "2                        0.0                           NaN           0.0   \n",
       "3                        0.0                          70.0           0.0   \n",
       "4                        0.0                           NaN           0.0   \n",
       "\n",
       "                Purpose        Term  Current Loan Amount  \\\n",
       "0    debt consolidation  Short Term             162470.0   \n",
       "1  educational expenses  Short Term              78298.0   \n",
       "2    debt consolidation  Short Term             200178.0   \n",
       "3    debt consolidation  Short Term             217382.0   \n",
       "4    debt consolidation   Long Term             777634.0   \n",
       "\n",
       "   Current Credit Balance  Monthly Debt  Credit Score  \n",
       "0                105906.0        6813.0           NaN  \n",
       "1                 46037.0        2318.0         699.0  \n",
       "2                146490.0       18729.0        7260.0  \n",
       "3                213199.0       27559.0         739.0  \n",
       "4                425391.0       42605.0         706.0  "
      ]
     },
     "execution_count": 2246,
     "metadata": {},
     "output_type": "execute_result"
    }
   ],
   "source": [
    "test_df = pd.read_csv(TEST_DATASET_PATH)\n",
    "test_df.head()"
   ]
  },
  {
   "cell_type": "code",
   "execution_count": 2247,
   "id": "5d6ebf60",
   "metadata": {},
   "outputs": [
    {
     "data": {
      "text/plain": [
       "True"
      ]
     },
     "execution_count": 2247,
     "metadata": {},
     "output_type": "execute_result"
    }
   ],
   "source": [
    "train_df.shape[1] - 1 == test_df.shape[1]"
   ]
  },
  {
   "cell_type": "markdown",
   "id": "31b7715f",
   "metadata": {},
   "source": [
    "### Приведение типов"
   ]
  },
  {
   "cell_type": "markdown",
   "id": "1c99aca1",
   "metadata": {},
   "source": [
    "Числовые в строковые переводить не нужно.\n",
    "Можно поменять тип числовых для экономии памяти.\n",
    "После изучения отдельных признаков тип некоторых категориальных переменных можно привести к числовым."
   ]
  },
  {
   "cell_type": "code",
   "execution_count": 2248,
   "id": "a66ae578",
   "metadata": {},
   "outputs": [
    {
     "name": "stdout",
     "output_type": "stream",
     "text": [
      "<class 'pandas.core.frame.DataFrame'>\n",
      "RangeIndex: 7500 entries, 0 to 7499\n",
      "Data columns (total 17 columns):\n",
      " #   Column                        Non-Null Count  Dtype  \n",
      "---  ------                        --------------  -----  \n",
      " 0   Home Ownership                7500 non-null   object \n",
      " 1   Annual Income                 5943 non-null   float64\n",
      " 2   Years in current job          7129 non-null   object \n",
      " 3   Tax Liens                     7500 non-null   float64\n",
      " 4   Number of Open Accounts       7500 non-null   float64\n",
      " 5   Years of Credit History       7500 non-null   float64\n",
      " 6   Maximum Open Credit           7500 non-null   float64\n",
      " 7   Number of Credit Problems     7500 non-null   float64\n",
      " 8   Months since last delinquent  3419 non-null   float64\n",
      " 9   Bankruptcies                  7486 non-null   float64\n",
      " 10  Purpose                       7500 non-null   object \n",
      " 11  Term                          7500 non-null   object \n",
      " 12  Current Loan Amount           7500 non-null   float64\n",
      " 13  Current Credit Balance        7500 non-null   float64\n",
      " 14  Monthly Debt                  7500 non-null   float64\n",
      " 15  Credit Score                  5943 non-null   float64\n",
      " 16  Credit Default                7500 non-null   int64  \n",
      "dtypes: float64(12), int64(1), object(4)\n",
      "memory usage: 996.2+ KB\n"
     ]
    }
   ],
   "source": [
    "train_df.info()"
   ]
  },
  {
   "cell_type": "markdown",
   "id": "78ed2124",
   "metadata": {},
   "source": [
    "### Обзор данных\n",
    "#### Обзор целевой переменной"
   ]
  },
  {
   "cell_type": "code",
   "execution_count": 2249,
   "id": "2461ecb1",
   "metadata": {},
   "outputs": [
    {
     "data": {
      "text/plain": [
       "0    5387\n",
       "1    2113\n",
       "Name: Credit Default, dtype: int64"
      ]
     },
     "execution_count": 2249,
     "metadata": {},
     "output_type": "execute_result"
    }
   ],
   "source": [
    "train_df['Credit Default'].value_counts()"
   ]
  },
  {
   "cell_type": "markdown",
   "id": "cd353391",
   "metadata": {},
   "source": [
    "Наблюдаем дисбаланс классов. Необходимо будет скорректировать."
   ]
  },
  {
   "cell_type": "markdown",
   "id": "8677fe97",
   "metadata": {},
   "source": [
    "#### Обзор количественных признаков"
   ]
  },
  {
   "cell_type": "code",
   "execution_count": 2250,
   "id": "16af10a1",
   "metadata": {
    "scrolled": true
   },
   "outputs": [
    {
     "data": {
      "text/html": [
       "<div>\n",
       "<style scoped>\n",
       "    .dataframe tbody tr th:only-of-type {\n",
       "        vertical-align: middle;\n",
       "    }\n",
       "\n",
       "    .dataframe tbody tr th {\n",
       "        vertical-align: top;\n",
       "    }\n",
       "\n",
       "    .dataframe thead th {\n",
       "        text-align: right;\n",
       "    }\n",
       "</style>\n",
       "<table border=\"1\" class=\"dataframe\">\n",
       "  <thead>\n",
       "    <tr style=\"text-align: right;\">\n",
       "      <th></th>\n",
       "      <th>Annual Income</th>\n",
       "      <th>Tax Liens</th>\n",
       "      <th>Number of Open Accounts</th>\n",
       "      <th>Years of Credit History</th>\n",
       "      <th>Maximum Open Credit</th>\n",
       "      <th>Number of Credit Problems</th>\n",
       "      <th>Months since last delinquent</th>\n",
       "      <th>Bankruptcies</th>\n",
       "      <th>Current Loan Amount</th>\n",
       "      <th>Current Credit Balance</th>\n",
       "      <th>Monthly Debt</th>\n",
       "      <th>Credit Score</th>\n",
       "      <th>Credit Default</th>\n",
       "    </tr>\n",
       "  </thead>\n",
       "  <tbody>\n",
       "    <tr>\n",
       "      <th>count</th>\n",
       "      <td>5.943000e+03</td>\n",
       "      <td>7500.000000</td>\n",
       "      <td>7500.000000</td>\n",
       "      <td>7500.000000</td>\n",
       "      <td>7.500000e+03</td>\n",
       "      <td>7500.000000</td>\n",
       "      <td>3419.000000</td>\n",
       "      <td>7486.000000</td>\n",
       "      <td>7.500000e+03</td>\n",
       "      <td>7.500000e+03</td>\n",
       "      <td>7500.000000</td>\n",
       "      <td>5943.000000</td>\n",
       "      <td>7500.000000</td>\n",
       "    </tr>\n",
       "    <tr>\n",
       "      <th>mean</th>\n",
       "      <td>1.366392e+06</td>\n",
       "      <td>0.030133</td>\n",
       "      <td>11.130933</td>\n",
       "      <td>18.317467</td>\n",
       "      <td>9.451537e+05</td>\n",
       "      <td>0.170000</td>\n",
       "      <td>34.692600</td>\n",
       "      <td>0.117152</td>\n",
       "      <td>1.187318e+07</td>\n",
       "      <td>2.898332e+05</td>\n",
       "      <td>18314.454133</td>\n",
       "      <td>1151.087498</td>\n",
       "      <td>0.281733</td>\n",
       "    </tr>\n",
       "    <tr>\n",
       "      <th>std</th>\n",
       "      <td>8.453392e+05</td>\n",
       "      <td>0.271604</td>\n",
       "      <td>4.908924</td>\n",
       "      <td>7.041946</td>\n",
       "      <td>1.602622e+07</td>\n",
       "      <td>0.498598</td>\n",
       "      <td>21.688806</td>\n",
       "      <td>0.347192</td>\n",
       "      <td>3.192612e+07</td>\n",
       "      <td>3.178714e+05</td>\n",
       "      <td>11926.764673</td>\n",
       "      <td>1604.451418</td>\n",
       "      <td>0.449874</td>\n",
       "    </tr>\n",
       "    <tr>\n",
       "      <th>min</th>\n",
       "      <td>1.645970e+05</td>\n",
       "      <td>0.000000</td>\n",
       "      <td>2.000000</td>\n",
       "      <td>4.000000</td>\n",
       "      <td>0.000000e+00</td>\n",
       "      <td>0.000000</td>\n",
       "      <td>0.000000</td>\n",
       "      <td>0.000000</td>\n",
       "      <td>1.124200e+04</td>\n",
       "      <td>0.000000e+00</td>\n",
       "      <td>0.000000</td>\n",
       "      <td>585.000000</td>\n",
       "      <td>0.000000</td>\n",
       "    </tr>\n",
       "    <tr>\n",
       "      <th>25%</th>\n",
       "      <td>8.443410e+05</td>\n",
       "      <td>0.000000</td>\n",
       "      <td>8.000000</td>\n",
       "      <td>13.500000</td>\n",
       "      <td>2.792295e+05</td>\n",
       "      <td>0.000000</td>\n",
       "      <td>16.000000</td>\n",
       "      <td>0.000000</td>\n",
       "      <td>1.801690e+05</td>\n",
       "      <td>1.142565e+05</td>\n",
       "      <td>10067.500000</td>\n",
       "      <td>711.000000</td>\n",
       "      <td>0.000000</td>\n",
       "    </tr>\n",
       "    <tr>\n",
       "      <th>50%</th>\n",
       "      <td>1.168386e+06</td>\n",
       "      <td>0.000000</td>\n",
       "      <td>10.000000</td>\n",
       "      <td>17.000000</td>\n",
       "      <td>4.781590e+05</td>\n",
       "      <td>0.000000</td>\n",
       "      <td>32.000000</td>\n",
       "      <td>0.000000</td>\n",
       "      <td>3.095730e+05</td>\n",
       "      <td>2.093230e+05</td>\n",
       "      <td>16076.500000</td>\n",
       "      <td>731.000000</td>\n",
       "      <td>0.000000</td>\n",
       "    </tr>\n",
       "    <tr>\n",
       "      <th>75%</th>\n",
       "      <td>1.640137e+06</td>\n",
       "      <td>0.000000</td>\n",
       "      <td>14.000000</td>\n",
       "      <td>21.800000</td>\n",
       "      <td>7.935015e+05</td>\n",
       "      <td>0.000000</td>\n",
       "      <td>50.000000</td>\n",
       "      <td>0.000000</td>\n",
       "      <td>5.198820e+05</td>\n",
       "      <td>3.604062e+05</td>\n",
       "      <td>23818.000000</td>\n",
       "      <td>743.000000</td>\n",
       "      <td>1.000000</td>\n",
       "    </tr>\n",
       "    <tr>\n",
       "      <th>max</th>\n",
       "      <td>1.014934e+07</td>\n",
       "      <td>7.000000</td>\n",
       "      <td>43.000000</td>\n",
       "      <td>57.700000</td>\n",
       "      <td>1.304726e+09</td>\n",
       "      <td>7.000000</td>\n",
       "      <td>118.000000</td>\n",
       "      <td>4.000000</td>\n",
       "      <td>1.000000e+08</td>\n",
       "      <td>6.506797e+06</td>\n",
       "      <td>136679.000000</td>\n",
       "      <td>7510.000000</td>\n",
       "      <td>1.000000</td>\n",
       "    </tr>\n",
       "  </tbody>\n",
       "</table>\n",
       "</div>"
      ],
      "text/plain": [
       "       Annual Income    Tax Liens  Number of Open Accounts  \\\n",
       "count   5.943000e+03  7500.000000              7500.000000   \n",
       "mean    1.366392e+06     0.030133                11.130933   \n",
       "std     8.453392e+05     0.271604                 4.908924   \n",
       "min     1.645970e+05     0.000000                 2.000000   \n",
       "25%     8.443410e+05     0.000000                 8.000000   \n",
       "50%     1.168386e+06     0.000000                10.000000   \n",
       "75%     1.640137e+06     0.000000                14.000000   \n",
       "max     1.014934e+07     7.000000                43.000000   \n",
       "\n",
       "       Years of Credit History  Maximum Open Credit  \\\n",
       "count              7500.000000         7.500000e+03   \n",
       "mean                 18.317467         9.451537e+05   \n",
       "std                   7.041946         1.602622e+07   \n",
       "min                   4.000000         0.000000e+00   \n",
       "25%                  13.500000         2.792295e+05   \n",
       "50%                  17.000000         4.781590e+05   \n",
       "75%                  21.800000         7.935015e+05   \n",
       "max                  57.700000         1.304726e+09   \n",
       "\n",
       "       Number of Credit Problems  Months since last delinquent  Bankruptcies  \\\n",
       "count                7500.000000                   3419.000000   7486.000000   \n",
       "mean                    0.170000                     34.692600      0.117152   \n",
       "std                     0.498598                     21.688806      0.347192   \n",
       "min                     0.000000                      0.000000      0.000000   \n",
       "25%                     0.000000                     16.000000      0.000000   \n",
       "50%                     0.000000                     32.000000      0.000000   \n",
       "75%                     0.000000                     50.000000      0.000000   \n",
       "max                     7.000000                    118.000000      4.000000   \n",
       "\n",
       "       Current Loan Amount  Current Credit Balance   Monthly Debt  \\\n",
       "count         7.500000e+03            7.500000e+03    7500.000000   \n",
       "mean          1.187318e+07            2.898332e+05   18314.454133   \n",
       "std           3.192612e+07            3.178714e+05   11926.764673   \n",
       "min           1.124200e+04            0.000000e+00       0.000000   \n",
       "25%           1.801690e+05            1.142565e+05   10067.500000   \n",
       "50%           3.095730e+05            2.093230e+05   16076.500000   \n",
       "75%           5.198820e+05            3.604062e+05   23818.000000   \n",
       "max           1.000000e+08            6.506797e+06  136679.000000   \n",
       "\n",
       "       Credit Score  Credit Default  \n",
       "count   5943.000000     7500.000000  \n",
       "mean    1151.087498        0.281733  \n",
       "std     1604.451418        0.449874  \n",
       "min      585.000000        0.000000  \n",
       "25%      711.000000        0.000000  \n",
       "50%      731.000000        0.000000  \n",
       "75%      743.000000        1.000000  \n",
       "max     7510.000000        1.000000  "
      ]
     },
     "execution_count": 2250,
     "metadata": {},
     "output_type": "execute_result"
    }
   ],
   "source": [
    "train_df.describe()"
   ]
  },
  {
   "cell_type": "markdown",
   "id": "b2935c6a",
   "metadata": {},
   "source": [
    "Есть неадекватные значения в признаке \"Credit Score\".\n",
    "В некоторых признаках среднее значение смещено по сравнению с медианой."
   ]
  },
  {
   "cell_type": "markdown",
   "id": "92a77821",
   "metadata": {},
   "source": [
    "#### Обзор номинативных признаков"
   ]
  },
  {
   "cell_type": "code",
   "execution_count": 2251,
   "id": "ce810ba0",
   "metadata": {},
   "outputs": [
    {
     "name": "stdout",
     "output_type": "stream",
     "text": [
      "Home Ownership\n",
      "\n",
      "Home Mortgage    3637\n",
      "Rent             3204\n",
      "Own Home          647\n",
      "Have Mortgage      12\n",
      "Name: Home Ownership, dtype: int64\n",
      "****************************************************************************************************\n",
      "\n",
      "Years in current job\n",
      "\n",
      "10+ years    2332\n",
      "2 years       705\n",
      "3 years       620\n",
      "< 1 year      563\n",
      "5 years       516\n",
      "1 year        504\n",
      "4 years       469\n",
      "6 years       426\n",
      "7 years       396\n",
      "8 years       339\n",
      "9 years       259\n",
      "Name: Years in current job, dtype: int64\n",
      "****************************************************************************************************\n",
      "\n",
      "Purpose\n",
      "\n",
      "debt consolidation      5944\n",
      "other                    665\n",
      "home improvements        412\n",
      "business loan            129\n",
      "buy a car                 96\n",
      "medical bills             71\n",
      "major purchase            40\n",
      "take a trip               37\n",
      "buy house                 34\n",
      "small business            26\n",
      "wedding                   15\n",
      "moving                    11\n",
      "educational expenses      10\n",
      "vacation                   8\n",
      "renewable energy           2\n",
      "Name: Purpose, dtype: int64\n",
      "****************************************************************************************************\n",
      "\n",
      "Term\n",
      "\n",
      "Short Term    5556\n",
      "Long Term     1944\n",
      "Name: Term, dtype: int64\n",
      "****************************************************************************************************\n",
      "\n"
     ]
    }
   ],
   "source": [
    "for cat_colname in train_df.select_dtypes(include='object').columns:\n",
    "    print(str(cat_colname) + '\\n\\n' + str(train_df[cat_colname].value_counts()) + '\\n' + '*' * 100 + '\\n')"
   ]
  },
  {
   "cell_type": "markdown",
   "id": "6415f3c7",
   "metadata": {},
   "source": [
    "**Home Ownership**: Have Mortgage и Home Mortgage вероятно значат одно и то же, можно объединить; можно преобразовать в дамми переменные <br>\n",
    "**Years in a current job**: преобразуем в числовой тип данных после заполнения пропусков <br>\n",
    "**Purpose**: можно посмотреть распределение целевой переменной и объединить классы, затем преобразовать в дамми переменные <br>\n",
    "**Term**: можно преобразовать в 1/0 и тип int"
   ]
  },
  {
   "cell_type": "markdown",
   "id": "9eab4485",
   "metadata": {},
   "source": [
    "### Обработка пропусков"
   ]
  },
  {
   "cell_type": "code",
   "execution_count": 2252,
   "id": "988e1e98",
   "metadata": {},
   "outputs": [
    {
     "data": {
      "text/plain": [
       "Home Ownership                     0\n",
       "Annual Income                   1557\n",
       "Years in current job             371\n",
       "Tax Liens                          0\n",
       "Number of Open Accounts            0\n",
       "Years of Credit History            0\n",
       "Maximum Open Credit                0\n",
       "Number of Credit Problems          0\n",
       "Months since last delinquent    4081\n",
       "Bankruptcies                      14\n",
       "Purpose                            0\n",
       "Term                               0\n",
       "Current Loan Amount                0\n",
       "Current Credit Balance             0\n",
       "Monthly Debt                       0\n",
       "Credit Score                    1557\n",
       "Credit Default                     0\n",
       "dtype: int64"
      ]
     },
     "execution_count": 2252,
     "metadata": {},
     "output_type": "execute_result"
    }
   ],
   "source": [
    "train_df.isna().sum()"
   ]
  },
  {
   "cell_type": "markdown",
   "id": "65cf1d09",
   "metadata": {},
   "source": [
    "**Annual income**: пропуски можно заполнить модой, но лучше - обучить модель для заполнения пропусков<br>\n",
    "**Years in current job**: будем считать, что пропуск - значит человек сейчас не работает; заполняем нулями<br>\n",
    "**Months since last delinquent**: очень много пропусков. надо обучать модель для их заполнения пропусков или не использовать признак вообще<br>\n",
    "**Bankruptcies**: пропусков мало; будем считать что NaN - отсутствие банкротства, приравниваем к нулю<br>\n",
    "**Credit score**: вообще-то рассчитывается банками => мы можем тоже рассчитать с помощью модели; упрощённо - заменим модой<br>"
   ]
  },
  {
   "cell_type": "markdown",
   "id": "48ae4336",
   "metadata": {},
   "source": [
    "### Обработка выбросов, заполнение пропусков"
   ]
  },
  {
   "cell_type": "code",
   "execution_count": 2253,
   "id": "38e0b073",
   "metadata": {},
   "outputs": [],
   "source": [
    "TARGET_NAME = 'Credit Default'\n",
    "BASE_FEATURE_NAMES = ['Home Ownership', 'Annual Income', 'Years in current job', 'Tax Liens', 'Number of Open Accounts',\n",
    "                      'Years of Credit History', 'Maximum Open Credit', 'Number of Credit Problems',\n",
    "                      'Months since last delinquent', 'Bankruptcies', 'Purpose', 'Term', 'Current Loan Amount',\n",
    "                      'Current Credit Balance', 'Monthly Debt', 'Credit Score']\n",
    "\n",
    "NUM_FEATURE_NAMES = ['Annual Income', 'Tax Liens', 'Number of Open Accounts',\n",
    "                      'Years of Credit History', 'Maximum Open Credit', 'Number of Credit Problems',\n",
    "                      'Months since last delinquent', 'Bankruptcies', 'Current Loan Amount',\n",
    "                      'Current Credit Balance', 'Monthly Debt', 'Credit Score']\n",
    "\n",
    "CAT_FEATURE_NAMES = ['Home Ownership', 'Years in current job', 'Purpose', 'Term']"
   ]
  },
  {
   "cell_type": "markdown",
   "id": "4cab2f73",
   "metadata": {},
   "source": [
    "#### Числовые признаки"
   ]
  },
  {
   "cell_type": "code",
   "execution_count": 2254,
   "id": "1f3d47c9",
   "metadata": {},
   "outputs": [
    {
     "data": {
      "image/png": "[encoded data removed]",
      "text/plain": [
       "<Figure size 1152x1152 with 12 Axes>"
      ]
     },
     "metadata": {
      "needs_background": "light"
     },
     "output_type": "display_data"
    }
   ],
   "source": [
    "train_df[NUM_FEATURE_NAMES].hist(figsize=(16, 16), bins=20, grid=False);"
   ]
  },
  {
   "cell_type": "markdown",
   "id": "1a4ef36e",
   "metadata": {},
   "source": [
    "В признаке \"Annual Income\" достаточно много пропусков и большой хвост на графике распределения. Если заполнить пропуски и выбросы медианой, получится очень много одинаковых значений. Поэтому заполняем рандомными значениями из диапазона от min до max с учётом выбросов (учитываем по квантилю 0.975)\n",
    "\n",
    "UPD: Метрики получаются лучше, если данные не обрезать, просто заполнить пропуски"
   ]
  },
  {
   "cell_type": "code",
   "execution_count": 2255,
   "id": "3a9deff0",
   "metadata": {},
   "outputs": [],
   "source": [
    "# condition_AI = (df['Annual Income'] > df['Annual Income'].quantile(.975)) | (df['Annual Income'].isna())\n",
    "# annual_income_outliers = df.loc[condition_AI].index\n",
    "# max_income = df.loc[~ condition_AI, ['Annual Income']].max()\n",
    "# min_income = df.loc[~ condition_AI, ['Annual Income']].min()\n",
    "# for x in annual_income_outliers:\n",
    "#     df.loc[x, 'Annual Income'] = random.randint(int(min_income), int(max_income))"
   ]
  },
  {
   "cell_type": "code",
   "execution_count": 2256,
   "id": "d16b7ad0",
   "metadata": {},
   "outputs": [],
   "source": [
    "condition_AI = train_df['Annual Income'].isna()\n",
    "annual_income_outliers = train_df.loc[condition_AI].index\n",
    "max_income = train_df.loc[~ condition_AI, ['Annual Income']].max()\n",
    "min_income = train_df.loc[~ condition_AI, ['Annual Income']].min()\n",
    "for x in annual_income_outliers:\n",
    "    train_df.loc[x, 'Annual Income'] = random.randint(int(min_income), int(max_income))"
   ]
  },
  {
   "cell_type": "code",
   "execution_count": 2257,
   "id": "b5d847c5",
   "metadata": {},
   "outputs": [
    {
     "data": {
      "image/png": "[encoded data removed]",
      "text/plain": [
       "<Figure size 432x432 with 1 Axes>"
      ]
     },
     "metadata": {
      "needs_background": "light"
     },
     "output_type": "display_data"
    }
   ],
   "source": [
    "train_df['Annual Income'].hist(figsize=(6, 6), bins=20, grid=False);"
   ]
  },
  {
   "cell_type": "markdown",
   "id": "d18304fa",
   "metadata": {},
   "source": [
    "Убираем выбросы в признаках \"Number of Open Accounts\", \"Years of Credit History\", \"Monthly Debt\" по квантилю 0.99"
   ]
  },
  {
   "cell_type": "code",
   "execution_count": 2258,
   "id": "8c8a46ee",
   "metadata": {},
   "outputs": [
    {
     "data": {
      "image/png": "[encoded data removed]",
      "text/plain": [
       "<Figure size 432x432 with 1 Axes>"
      ]
     },
     "metadata": {
      "needs_background": "light"
     },
     "output_type": "display_data"
    }
   ],
   "source": [
    "train_df['Number of Open Accounts'].hist(figsize=(6, 6), bins=15, grid=False);"
   ]
  },
  {
   "cell_type": "code",
   "execution_count": 2259,
   "id": "65d75e09",
   "metadata": {},
   "outputs": [],
   "source": [
    "train_df.loc[train_df['Number of Open Accounts'] > train_df['Number of Open Accounts'].quantile(.99), 'Number of Open Accounts'] = train_df['Number of Open Accounts'].median()"
   ]
  },
  {
   "cell_type": "code",
   "execution_count": 2260,
   "id": "ce70dd08",
   "metadata": {},
   "outputs": [
    {
     "data": {
      "image/png": "[encoded data removed]",
      "text/plain": [
       "<Figure size 432x432 with 1 Axes>"
      ]
     },
     "metadata": {
      "needs_background": "light"
     },
     "output_type": "display_data"
    }
   ],
   "source": [
    "train_df['Years of Credit History'].hist(figsize=(6, 6), bins=15, grid=False);"
   ]
  },
  {
   "cell_type": "code",
   "execution_count": 2261,
   "id": "f3df0043",
   "metadata": {},
   "outputs": [],
   "source": [
    "train_df.loc[train_df['Years of Credit History'] > train_df['Years of Credit History'].quantile(.99), 'Years of Credit History'] = train_df['Years of Credit History'].median()"
   ]
  },
  {
   "cell_type": "code",
   "execution_count": 2262,
   "id": "3887ad5e",
   "metadata": {},
   "outputs": [
    {
     "data": {
      "image/png": "[encoded data removed]",
      "text/plain": [
       "<Figure size 432x432 with 1 Axes>"
      ]
     },
     "metadata": {
      "needs_background": "light"
     },
     "output_type": "display_data"
    }
   ],
   "source": [
    "train_df['Monthly Debt'].hist(figsize=(6, 6), bins=15, grid=False);"
   ]
  },
  {
   "cell_type": "code",
   "execution_count": 2263,
   "id": "57eece57",
   "metadata": {},
   "outputs": [],
   "source": [
    "train_df.loc[train_df['Monthly Debt'] > train_df['Monthly Debt'].quantile(.99), 'Monthly Debt'] = train_df['Monthly Debt'].median()"
   ]
  },
  {
   "cell_type": "markdown",
   "id": "03d5bd6d",
   "metadata": {},
   "source": [
    "В признаке \"Credit Score\" много неадекватных значений (максимальное значение Кредит Скор вообще 850, а минимальное - 300).\n",
    "Если посмотреть на график распределения значений, которые меньше 850, можно отметить, что оно далеко не является нормальным. Т.е. некорректно заполнять пропуски и выбросы медианой. Если заполнить их модой, появится много одинаковых значений. Поэтому заполняем их рандомными значениями от min до max с учетом выбросов.\n",
    "\n",
    "Также приведём значения признака к типу int, т.к. они целочисленные по факту."
   ]
  },
  {
   "cell_type": "code",
   "execution_count": 2264,
   "id": "f629bd3e",
   "metadata": {},
   "outputs": [
    {
     "data": {
      "image/png": "[encoded data removed]",
      "text/plain": [
       "<Figure size 432x432 with 1 Axes>"
      ]
     },
     "metadata": {
      "needs_background": "light"
     },
     "output_type": "display_data"
    }
   ],
   "source": [
    "train_df['Credit Score'].hist(figsize=(6, 6), bins=25, grid=False);"
   ]
  },
  {
   "cell_type": "code",
   "execution_count": 2265,
   "id": "50c41106",
   "metadata": {},
   "outputs": [
    {
     "data": {
      "image/png": "[encoded data removed]",
      "text/plain": [
       "<Figure size 432x432 with 1 Axes>"
      ]
     },
     "metadata": {
      "needs_background": "light"
     },
     "output_type": "display_data"
    }
   ],
   "source": [
    "train_df.loc[train_df['Credit Score'] < 850, 'Credit Score'].hist(figsize=(6, 6), bins=15, grid=False);"
   ]
  },
  {
   "cell_type": "code",
   "execution_count": 2266,
   "id": "7e1a7f08",
   "metadata": {},
   "outputs": [],
   "source": [
    "max_credit_score = train_df.loc[df['Credit Score'] < 850, 'Credit Score'].max()\n",
    "min_credit_score = train_df.loc[df['Credit Score'] > 300, 'Credit Score'].min()\n",
    "condition_CS = (train_df['Credit Score'] > 850) | (train_df['Credit Score'] < 300) | (train_df['Credit Score'].isna())\n",
    "credit_score_outliers = train_df.loc[condition_CS].index\n",
    "for x in credit_score_outliers:\n",
    "    train_df.loc[x, 'Credit Score'] = random.randint(min_credit_score, max_credit_score)"
   ]
  },
  {
   "cell_type": "code",
   "execution_count": 2267,
   "id": "bcd7a2de",
   "metadata": {},
   "outputs": [
    {
     "data": {
      "image/png": "[encoded data removed]",
      "text/plain": [
       "<Figure size 432x432 with 1 Axes>"
      ]
     },
     "metadata": {
      "needs_background": "light"
     },
     "output_type": "display_data"
    }
   ],
   "source": [
    "train_df['Credit Score'].hist(figsize=(6, 6), bins=25, grid=False);"
   ]
  },
  {
   "cell_type": "code",
   "execution_count": 2268,
   "id": "2f49b852",
   "metadata": {},
   "outputs": [],
   "source": [
    "train_df['Credit Score'] = train_df['Credit Score'].astype(int)"
   ]
  },
  {
   "cell_type": "markdown",
   "id": "35298464",
   "metadata": {},
   "source": [
    "В признаке \"Bankruptcies\" пропуски заполним нулями: считаем, что раз там пропуск, значит банкротств нет."
   ]
  },
  {
   "cell_type": "code",
   "execution_count": 2269,
   "id": "8e61348e",
   "metadata": {},
   "outputs": [],
   "source": [
    "train_df.loc[df['Bankruptcies'].isna() , 'Bankruptcies'] = 0"
   ]
  },
  {
   "cell_type": "markdown",
   "id": "7a306b92",
   "metadata": {},
   "source": [
    "Заполняем выбросы в признаке Current Loan"
   ]
  },
  {
   "cell_type": "code",
   "execution_count": 2270,
   "id": "352fe9a9",
   "metadata": {},
   "outputs": [
    {
     "data": {
      "image/png": "[encoded data removed]",
      "text/plain": [
       "<Figure size 432x432 with 1 Axes>"
      ]
     },
     "metadata": {
      "needs_background": "light"
     },
     "output_type": "display_data"
    }
   ],
   "source": [
    "train_df['Current Loan Amount'].hist(figsize=(6, 6), bins=15, grid=False);"
   ]
  },
  {
   "cell_type": "code",
   "execution_count": 2271,
   "id": "33c6a453",
   "metadata": {},
   "outputs": [
    {
     "data": {
      "image/png": "[encoded data removed]",
      "text/plain": [
       "<Figure size 432x432 with 1 Axes>"
      ]
     },
     "metadata": {
      "needs_background": "light"
     },
     "output_type": "display_data"
    }
   ],
   "source": [
    "train_df.loc[train_df['Current Loan Amount'] < 99999999, 'Current Loan Amount'].hist(figsize=(6, 6), bins=15, grid=False);"
   ]
  },
  {
   "cell_type": "code",
   "execution_count": 2272,
   "id": "5e8688c9",
   "metadata": {},
   "outputs": [],
   "source": [
    "train_df.loc[df['Current Loan Amount'] > 1000000, 'Current Loan Amount'] = train_df['Current Loan Amount'].median()"
   ]
  },
  {
   "cell_type": "markdown",
   "id": "77079f3e",
   "metadata": {},
   "source": [
    "#### Категориальные признаки"
   ]
  },
  {
   "cell_type": "code",
   "execution_count": 2273,
   "id": "f0faed8b",
   "metadata": {},
   "outputs": [
    {
     "data": {
      "text/plain": [
       "10+ years    2332\n",
       "2 years       705\n",
       "3 years       620\n",
       "< 1 year      563\n",
       "5 years       516\n",
       "1 year        504\n",
       "4 years       469\n",
       "6 years       426\n",
       "7 years       396\n",
       "8 years       339\n",
       "9 years       259\n",
       "Name: Years in current job, dtype: int64"
      ]
     },
     "execution_count": 2273,
     "metadata": {},
     "output_type": "execute_result"
    }
   ],
   "source": [
    "train_df['Years in current job'].value_counts()"
   ]
  },
  {
   "cell_type": "markdown",
   "id": "92381229",
   "metadata": {},
   "source": [
    "Приведём признак \"Years in current job\" к числовому типу. Чем дольше человек работает на работе, тем меньше вероятность, что его уволят и он останется без денег, поэтому не обязательно его оставлять категориальным.\n",
    "Значений в категории \"<1\" достаточно много, что отнести их к классу \"1\". И также некорректно присваивать им значение \"0\", т.к. человек всё-таки работает. Поэтому присвоим значение 0.5, а пропуски заполним нулями."
   ]
  },
  {
   "cell_type": "code",
   "execution_count": 2274,
   "id": "9360a456",
   "metadata": {},
   "outputs": [],
   "source": [
    "train_df['Years in current job'] = train_df['Years in current job'].map({'10+ years':'10','2 years':'2','3 years':'3','< 1 year':'0.5','5 years':'5','1 year':'1','4 years':'4',\n",
    "                       '6 years':'6','7 years':'7','8 years':'8','9 years':'9'})\n",
    "train_df.loc[train_df['Years in current job'].isna() , 'Years in current job'] = 0\n",
    "train_df['Years in current job'] = train_df['Years in current job'].astype(float)"
   ]
  },
  {
   "cell_type": "code",
   "execution_count": 2275,
   "id": "2947364d",
   "metadata": {
    "scrolled": true
   },
   "outputs": [
    {
     "data": {
      "image/png": "[encoded data removed]",
      "text/plain": [
       "<Figure size 288x288 with 1 Axes>"
      ]
     },
     "metadata": {
      "needs_background": "light"
     },
     "output_type": "display_data"
    }
   ],
   "source": [
    "train_df['Years in current job'].hist(figsize=(4, 4), grid=False);"
   ]
  },
  {
   "cell_type": "markdown",
   "id": "483dd005",
   "metadata": {},
   "source": [
    "В признаке \"Term\" два значения, можно заменить бинарной переменной. Пропуски заполнить рандомными значениями, привести к типу int."
   ]
  },
  {
   "cell_type": "code",
   "execution_count": 2276,
   "id": "9e9998d9",
   "metadata": {},
   "outputs": [
    {
     "data": {
      "text/plain": [
       "Short Term    5556\n",
       "Long Term     1944\n",
       "Name: Term, dtype: int64"
      ]
     },
     "execution_count": 2276,
     "metadata": {},
     "output_type": "execute_result"
    }
   ],
   "source": [
    "train_df['Term'].value_counts()"
   ]
  },
  {
   "cell_type": "code",
   "execution_count": 2277,
   "id": "283252a7",
   "metadata": {},
   "outputs": [],
   "source": [
    "train_df['Term'] = train_df['Term'].map({'Short Term':'0','Long Term':'1'})"
   ]
  },
  {
   "cell_type": "code",
   "execution_count": 2278,
   "id": "9d27b7cd",
   "metadata": {},
   "outputs": [],
   "source": [
    "train_df.loc[train_df['Term'].isna() , 'Term'] = random.randint(0,1)"
   ]
  },
  {
   "cell_type": "code",
   "execution_count": 2279,
   "id": "4a65fff2",
   "metadata": {},
   "outputs": [],
   "source": [
    "train_df['Term'] = train_df['Term'].astype(int)"
   ]
  },
  {
   "cell_type": "markdown",
   "id": "936a55dc",
   "metadata": {},
   "source": [
    "В признаке \"Home Ownership\" вероятно равны по смыслу значения \"Have Mortgage\" и \"Home Mortgage\". К тому же значений \"Have Mortgage\" мало, поэтому переименуем их в \"Home Mortgage\" и заменим на дамми переменные.\n",
    "\n",
    "К дамми переменным можно привести и признак Purpose, но там довольно много значений. Возможно, некоторые из них можно объединить после статистического анализа."
   ]
  },
  {
   "cell_type": "code",
   "execution_count": 2280,
   "id": "3861850c",
   "metadata": {},
   "outputs": [
    {
     "data": {
      "text/plain": [
       "Home Mortgage    3637\n",
       "Rent             3204\n",
       "Own Home          647\n",
       "Have Mortgage      12\n",
       "Name: Home Ownership, dtype: int64"
      ]
     },
     "execution_count": 2280,
     "metadata": {},
     "output_type": "execute_result"
    }
   ],
   "source": [
    "train_df['Home Ownership'].value_counts()"
   ]
  },
  {
   "cell_type": "code",
   "execution_count": 2281,
   "id": "29a0531a",
   "metadata": {},
   "outputs": [],
   "source": [
    "train_df.loc[train_df['Home Ownership'] == 'Have Mortgage', 'Home Ownership'] = 'Home Mortgage'"
   ]
  },
  {
   "cell_type": "code",
   "execution_count": 2282,
   "id": "fa377a5c",
   "metadata": {},
   "outputs": [],
   "source": [
    "train_df = pd.concat([train_df, pd.get_dummies(train_df['Home Ownership'], prefix='Home Ownership')], axis=1)"
   ]
  },
  {
   "cell_type": "code",
   "execution_count": 2283,
   "id": "25a0763e",
   "metadata": {},
   "outputs": [
    {
     "data": {
      "text/plain": [
       "Home Ownership                     0\n",
       "Annual Income                      0\n",
       "Years in current job               0\n",
       "Tax Liens                          0\n",
       "Number of Open Accounts            0\n",
       "Years of Credit History            0\n",
       "Maximum Open Credit                0\n",
       "Number of Credit Problems          0\n",
       "Months since last delinquent    4081\n",
       "Bankruptcies                      14\n",
       "Purpose                            0\n",
       "Term                               0\n",
       "Current Loan Amount                0\n",
       "Current Credit Balance             0\n",
       "Monthly Debt                       0\n",
       "Credit Score                       0\n",
       "Credit Default                     0\n",
       "Home Ownership_Home Mortgage       0\n",
       "Home Ownership_Own Home            0\n",
       "Home Ownership_Rent                0\n",
       "dtype: int64"
      ]
     },
     "execution_count": 2283,
     "metadata": {},
     "output_type": "execute_result"
    }
   ],
   "source": [
    "train_df.isna().sum()"
   ]
  },
  {
   "cell_type": "markdown",
   "id": "b93441d9",
   "metadata": {},
   "source": [
    "Пропусков в признаке \"Months since last delinquent\" больше половины. Поэтому заполнять их не будем. Признак просто не будет использоваться при построении модели."
   ]
  },
  {
   "cell_type": "code",
   "execution_count": 2284,
   "id": "ef5125aa",
   "metadata": {},
   "outputs": [
    {
     "name": "stdout",
     "output_type": "stream",
     "text": [
      "<class 'pandas.core.frame.DataFrame'>\n",
      "RangeIndex: 7500 entries, 0 to 7499\n",
      "Data columns (total 20 columns):\n",
      " #   Column                        Non-Null Count  Dtype  \n",
      "---  ------                        --------------  -----  \n",
      " 0   Home Ownership                7500 non-null   object \n",
      " 1   Annual Income                 7500 non-null   float64\n",
      " 2   Years in current job          7500 non-null   float64\n",
      " 3   Tax Liens                     7500 non-null   float64\n",
      " 4   Number of Open Accounts       7500 non-null   float64\n",
      " 5   Years of Credit History       7500 non-null   float64\n",
      " 6   Maximum Open Credit           7500 non-null   float64\n",
      " 7   Number of Credit Problems     7500 non-null   float64\n",
      " 8   Months since last delinquent  3419 non-null   float64\n",
      " 9   Bankruptcies                  7486 non-null   float64\n",
      " 10  Purpose                       7500 non-null   object \n",
      " 11  Term                          7500 non-null   int32  \n",
      " 12  Current Loan Amount           7500 non-null   float64\n",
      " 13  Current Credit Balance        7500 non-null   float64\n",
      " 14  Monthly Debt                  7500 non-null   float64\n",
      " 15  Credit Score                  7500 non-null   int32  \n",
      " 16  Credit Default                7500 non-null   int64  \n",
      " 17  Home Ownership_Home Mortgage  7500 non-null   uint8  \n",
      " 18  Home Ownership_Own Home       7500 non-null   uint8  \n",
      " 19  Home Ownership_Rent           7500 non-null   uint8  \n",
      "dtypes: float64(12), int32(2), int64(1), object(2), uint8(3)\n",
      "memory usage: 959.6+ KB\n"
     ]
    }
   ],
   "source": [
    "train_df.info()"
   ]
  },
  {
   "cell_type": "markdown",
   "id": "9dc266c5",
   "metadata": {},
   "source": [
    "### Оформление препроцессинга в класс"
   ]
  },
  {
   "cell_type": "code",
   "execution_count": 2285,
   "id": "0ddabacf",
   "metadata": {},
   "outputs": [],
   "source": [
    "class DataPreprocessing:\n",
    "    \"\"\"Подготовка исходных данных\"\"\"\n",
    "\n",
    "    def __init__(self):\n",
    "        \"\"\"Параметры класса\"\"\"\n",
    "        self.medians = None\n",
    "        \n",
    "    def fit(self, X):\n",
    "        \"\"\"Сохранение статистик\"\"\"       \n",
    "        # Расчет медиан\n",
    "        self.max_income = X['Annual Income'].max()\n",
    "        self.min_income = X['Annual Income'].min()\n",
    "        self.medians = X.median()\n",
    "        self.quantiles = X.quantile(.99)\n",
    "        self.max_cs = X.loc[X['Credit Score'] < 850, 'Credit Score'].max()\n",
    "        self.min_cs = X.loc[X['Credit Score'] > 300, 'Credit Score'].min()\n",
    "#         self.number_of_open_accounts_quantile = X['Number of Open Accounts'].quantile(.99)\n",
    "    \n",
    "    def transform(self, X):\n",
    "        \"\"\"Трансформация данных\"\"\"\n",
    "\n",
    "        # Annual Income\n",
    "        annual_income_outliers = X.loc[X['Annual Income'].isna()].index\n",
    "        for i in annual_income_outliers:\n",
    "            X.loc[i, 'Annual Income'] = random.randint(int(self.min_income), int(self.max_income))\n",
    "                \n",
    "        #Number of Open Accounts\n",
    "        X.loc[X['Number of Open Accounts'] > self.quantiles['Number of Open Accounts'],\n",
    "              'Number of Open Accounts'] = self.medians['Number of Open Accounts']\n",
    "        \n",
    "        # Years of Credit History\n",
    "        X.loc[X['Years of Credit History'] > self.quantiles['Years of Credit History'],\n",
    "              'Years of Credit History'] = self.medians['Years of Credit History']\n",
    "       \n",
    "        # Monthly Debt\n",
    "        X.loc[X['Monthly Debt'] > self.quantiles['Monthly Debt'],\n",
    "              'Monthly Debt'] = self.medians['Monthly Debt']\n",
    "        \n",
    "        # LifeSquare\n",
    "        X['Credit_Score_outlier'] = 0\n",
    "        condition_CS = (X['Credit Score'] > 850) | (X['Credit Score'] < 300) | (X['Credit Score'].isna())\n",
    "        X.loc[condition_CS, 'Credit_Score_outlier'] = 1\n",
    "        \n",
    "        credit_score_outliers = X.loc[condition_CS].index\n",
    "        for i in credit_score_outliers:\n",
    "            X.loc[i, 'Credit Score'] = random.randint(self.min_cs, self.max_cs)        \n",
    "        \n",
    "        # Bankrupties\n",
    "        \n",
    "        X.loc[X['Bankruptcies'].isna() , 'Bankruptcies'] = 0\n",
    "        \n",
    "        # Current Loan Amount\n",
    "        \n",
    "        X.loc[X['Current Loan Amount'] > 1000000 , 'Current Loan Amount'] = self.medians['Current Loan Amount']\n",
    "        \n",
    "        # Years in Current Job\n",
    "        X['Years in current job'] = X['Years in current job'].map({'10+ years':'10','2 years':'2','3 years':'3','< 1 year':'0.5','5 years':'5','1 year':'1','4 years':'4',\n",
    "                       '6 years':'6','7 years':'7','8 years':'8','9 years':'9'})\n",
    "        X.loc[X['Years in current job'].isna() , 'Years in current job'] = 0\n",
    "        X['Years in current job'] = X['Years in current job'].astype(float)\n",
    "        \n",
    "        # Term\n",
    "        \n",
    "        X['Term'] = X['Term'].map({'Short Term':'0','Long Term':'1'})\n",
    "        X.loc[X['Term'].isna() , 'Term'] = random.randint(0,1)\n",
    "        X['Term'] = X['Term'].astype(int)\n",
    "        \n",
    "        # Home Ownership\n",
    "        \n",
    "        X.loc[X['Home Ownership'] == 'Have Mortgage', 'Home Ownership'] = 'Home Mortgage'\n",
    "        X = pd.concat([X, pd.get_dummies(X['Home Ownership'], prefix='Home Ownership')], axis=1)\n",
    "        \n",
    "       \n",
    "        \n",
    "        X.fillna(self.medians, inplace=True)\n",
    "        \n",
    "        return X"
   ]
  },
  {
   "cell_type": "markdown",
   "id": "cc564f41",
   "metadata": {},
   "source": [
    "### Анализ корреляций"
   ]
  },
  {
   "cell_type": "markdown",
   "id": "9716903e",
   "metadata": {},
   "source": [
    "#### Корреляция признаков с целевым"
   ]
  },
  {
   "cell_type": "code",
   "execution_count": 2286,
   "id": "ad4aa798",
   "metadata": {},
   "outputs": [
    {
     "data": {
      "image/png": "[encoded data removed]",
      "text/plain": [
       "<Figure size 720x576 with 1 Axes>"
      ]
     },
     "metadata": {
      "needs_background": "light"
     },
     "output_type": "display_data"
    }
   ],
   "source": [
    "corr_with_target = train_df[BASE_FEATURE_NAMES + [TARGET_NAME]].corr().iloc[:-1, -1].sort_values(ascending=False)\n",
    "\n",
    "plt.figure(figsize=(10, 8))\n",
    "\n",
    "sns.barplot(x=corr_with_target.values, y=corr_with_target.index)\n",
    "\n",
    "plt.title('Correlation with target variable')\n",
    "plt.show()"
   ]
  },
  {
   "cell_type": "markdown",
   "id": "9a25df4d",
   "metadata": {},
   "source": [
    "Признак \"Months since last delinquent\" закономерно некоррелирует с целевой переменной: он почти полностью состоит из пропусков.\n",
    "Отметим, что \"Bankruptcies\" так же с \"Credit Default\" Не коррелирует."
   ]
  },
  {
   "cell_type": "code",
   "execution_count": 2287,
   "id": "e447124f",
   "metadata": {
    "scrolled": true
   },
   "outputs": [
    {
     "data": {
      "image/png": "[encoded data removed]",
      "text/plain": [
       "<Figure size 2160x432 with 1 Axes>"
      ]
     },
     "metadata": {
      "needs_background": "light"
     },
     "output_type": "display_data"
    }
   ],
   "source": [
    "plt.figure(figsize=(30, 6))\n",
    "\n",
    "sns.countplot(x=\"Purpose\", hue=TARGET_NAME, data=df)\n",
    "plt.title('Purpose grouped by target variable')\n",
    "plt.legend(title='Target', loc='upper right')\n",
    "plt.ylim(0,100)\n",
    "\n",
    "plt.show()"
   ]
  },
  {
   "cell_type": "markdown",
   "id": "69a2adcb",
   "metadata": {},
   "source": [
    "Есть вероятность, что некоторые значения признака \"Purpose\" вносят приблизительно одинаковый вклад в значение целевой переменной, т.е. распределение по целевой переменной будет схожее. Проверим эту гипотезу с помощью статистического теста. Например, критерия согласия Пирсона (хи квадрат). Метод непараметрический, поэтому нет необходимости проверять нормальность распределения."
   ]
  },
  {
   "cell_type": "code",
   "execution_count": 2288,
   "id": "9567c6a9",
   "metadata": {},
   "outputs": [],
   "source": [
    "train_df['ID'] = train_df.index"
   ]
  },
  {
   "cell_type": "code",
   "execution_count": 2289,
   "id": "9215b18d",
   "metadata": {},
   "outputs": [
    {
     "data": {
      "text/plain": [
       "0.9084708624865527"
      ]
     },
     "execution_count": 2289,
     "metadata": {},
     "output_type": "execute_result"
    }
   ],
   "source": [
    "purpose_and_target_s = train_df.loc[train_df['Purpose'].isin(['home improvements', 'buy a car']), ['ID','Purpose', 'Credit Default']]\n",
    "table = purpose_and_target_s.pivot_table(index='Purpose', columns='Credit Default', aggfunc='count')\n",
    "chi2, p, _, _ = chi2_contingency(table)\n",
    "p"
   ]
  },
  {
   "cell_type": "code",
   "execution_count": 2290,
   "id": "6bfe627f",
   "metadata": {},
   "outputs": [
    {
     "data": {
      "text/plain": [
       "0.7467740513733911"
      ]
     },
     "execution_count": 2290,
     "metadata": {},
     "output_type": "execute_result"
    }
   ],
   "source": [
    "purpose_and_target_s = train_df.loc[train_df['Purpose'].isin(['home improvements', 'major purchase']), ['ID','Purpose', 'Credit Default']]\n",
    "table = purpose_and_target_s.pivot_table(index='Purpose', columns='Credit Default', aggfunc='count')\n",
    "chi2, p, _, _ = chi2_contingency(table)\n",
    "p"
   ]
  },
  {
   "cell_type": "code",
   "execution_count": 2291,
   "id": "80349234",
   "metadata": {},
   "outputs": [
    {
     "data": {
      "text/plain": [
       "1.0"
      ]
     },
     "execution_count": 2291,
     "metadata": {},
     "output_type": "execute_result"
    }
   ],
   "source": [
    "purpose_and_target_s = train_df.loc[train_df['Purpose'].isin(['home improvements', 'take a trip']), ['ID','Purpose', 'Credit Default']]\n",
    "table = purpose_and_target_s.pivot_table(index='Purpose', columns='Credit Default', aggfunc='count')\n",
    "chi2, p, _, _ = chi2_contingency(table)\n",
    "p"
   ]
  },
  {
   "cell_type": "code",
   "execution_count": 2292,
   "id": "70b485ec",
   "metadata": {},
   "outputs": [
    {
     "data": {
      "text/plain": [
       "1.0"
      ]
     },
     "execution_count": 2292,
     "metadata": {},
     "output_type": "execute_result"
    }
   ],
   "source": [
    "purpose_and_target_s = train_df.loc[train_df['Purpose'].isin(['home improvements', 'wedding']), ['ID','Purpose', 'Credit Default']]\n",
    "table = purpose_and_target_s.pivot_table(index='Purpose', columns='Credit Default', aggfunc='count')\n",
    "chi2, p, _, _ = chi2_contingency(table)\n",
    "p"
   ]
  },
  {
   "cell_type": "code",
   "execution_count": 2293,
   "id": "fb447705",
   "metadata": {},
   "outputs": [
    {
     "data": {
      "text/plain": [
       "1.0"
      ]
     },
     "execution_count": 2293,
     "metadata": {},
     "output_type": "execute_result"
    }
   ],
   "source": [
    "purpose_and_target_s = train_df.loc[train_df['Purpose'].isin(['home improvements', 'vacation']), ['ID','Purpose', 'Credit Default']]\n",
    "table = purpose_and_target_s.pivot_table(index='Purpose', columns='Credit Default', aggfunc='count')\n",
    "chi2, p, _, _ = chi2_contingency(table)\n",
    "p"
   ]
  },
  {
   "cell_type": "code",
   "execution_count": 2294,
   "id": "51875dd4",
   "metadata": {},
   "outputs": [
    {
     "data": {
      "text/plain": [
       "0.42845295138233785"
      ]
     },
     "execution_count": 2294,
     "metadata": {},
     "output_type": "execute_result"
    }
   ],
   "source": [
    "purpose_and_target_s = train_df.loc[train_df['Purpose'].isin(['home improvements', 'educational expenses']), ['ID','Purpose', 'Credit Default']]\n",
    "table = purpose_and_target_s.pivot_table(index='Purpose', columns='Credit Default', aggfunc='count')\n",
    "chi2, p, _, _ = chi2_contingency(table)\n",
    "p"
   ]
  },
  {
   "cell_type": "code",
   "execution_count": 2295,
   "id": "a4a78d7b",
   "metadata": {},
   "outputs": [
    {
     "data": {
      "text/plain": [
       "0.5154852485989191"
      ]
     },
     "execution_count": 2295,
     "metadata": {},
     "output_type": "execute_result"
    }
   ],
   "source": [
    "purpose_and_target_s = train_df.loc[train_df['Purpose'].isin(['home improvements', 'debt consolidation']), ['ID','Purpose', 'Credit Default']]\n",
    "table = purpose_and_target_s.pivot_table(index='Purpose', columns='Credit Default', aggfunc='count')\n",
    "chi2, p, _, _ = chi2_contingency(table)\n",
    "p"
   ]
  },
  {
   "cell_type": "code",
   "execution_count": 2296,
   "id": "293254df",
   "metadata": {},
   "outputs": [
    {
     "data": {
      "text/plain": [
       "0.2552281402751723"
      ]
     },
     "execution_count": 2296,
     "metadata": {},
     "output_type": "execute_result"
    }
   ],
   "source": [
    "purpose_and_target_s = train_df.loc[train_df['Purpose'].isin(['home improvements', 'other']), ['ID','Purpose', 'Credit Default']]\n",
    "table = purpose_and_target_s.pivot_table(index='Purpose', columns='Credit Default', aggfunc='count')\n",
    "chi2, p, _, _ = chi2_contingency(table)\n",
    "p"
   ]
  },
  {
   "cell_type": "code",
   "execution_count": 2297,
   "id": "93132c93",
   "metadata": {},
   "outputs": [
    {
     "data": {
      "text/plain": [
       "1.0"
      ]
     },
     "execution_count": 2297,
     "metadata": {},
     "output_type": "execute_result"
    }
   ],
   "source": [
    "purpose_and_target_s = train_df.loc[train_df['Purpose'].isin(['home improvements', 'buy house']), ['ID','Purpose', 'Credit Default']]\n",
    "table = purpose_and_target_s.pivot_table(index='Purpose', columns='Credit Default', aggfunc='count')\n",
    "chi2, p, _, _ = chi2_contingency(table)\n",
    "p"
   ]
  },
  {
   "cell_type": "code",
   "execution_count": 2298,
   "id": "55291180",
   "metadata": {},
   "outputs": [
    {
     "data": {
      "text/plain": [
       "0.48861246107260037"
      ]
     },
     "execution_count": 2298,
     "metadata": {},
     "output_type": "execute_result"
    }
   ],
   "source": [
    "purpose_and_target_s = train_df.loc[train_df['Purpose'].isin(['home improvements', 'medical bills']), ['ID','Purpose', 'Credit Default']]\n",
    "table = purpose_and_target_s.pivot_table(index='Purpose', columns='Credit Default', aggfunc='count')\n",
    "chi2, p, _, _ = chi2_contingency(table)\n",
    "p"
   ]
  },
  {
   "cell_type": "code",
   "execution_count": 2299,
   "id": "a393de3a",
   "metadata": {},
   "outputs": [
    {
     "data": {
      "text/plain": [
       "0.8017458016217485"
      ]
     },
     "execution_count": 2299,
     "metadata": {},
     "output_type": "execute_result"
    }
   ],
   "source": [
    "purpose_and_target_s = train_df.loc[train_df['Purpose'].isin(['home improvements', 'moving']), ['ID','Purpose', 'Credit Default']]\n",
    "table = purpose_and_target_s.pivot_table(index='Purpose', columns='Credit Default', aggfunc='count')\n",
    "chi2, p, _, _ = chi2_contingency(table)\n",
    "p"
   ]
  },
  {
   "cell_type": "code",
   "execution_count": 2300,
   "id": "60569750",
   "metadata": {},
   "outputs": [
    {
     "data": {
      "text/plain": [
       "0.40483403834216214"
      ]
     },
     "execution_count": 2300,
     "metadata": {},
     "output_type": "execute_result"
    }
   ],
   "source": [
    "purpose_and_target_s = train_df.loc[train_df['Purpose'].isin(['small business', 'business loan']), ['ID','Purpose', 'Credit Default']]\n",
    "table = purpose_and_target_s.pivot_table(index='Purpose', columns='Credit Default', aggfunc='count')\n",
    "chi2, p, _, _ = chi2_contingency(table)\n",
    "p"
   ]
  },
  {
   "cell_type": "code",
   "execution_count": 2301,
   "id": "f056296b",
   "metadata": {},
   "outputs": [
    {
     "data": {
      "text/plain": [
       "nan"
      ]
     },
     "execution_count": 2301,
     "metadata": {},
     "output_type": "execute_result"
    }
   ],
   "source": [
    "purpose_and_target_s = train_df.loc[train_df['Purpose'].isin(['small business', 'renewable energy']), ['ID','Purpose', 'Credit Default']]\n",
    "table = purpose_and_target_s.pivot_table(index='Purpose', columns='Credit Default', aggfunc='count')\n",
    "chi2, p, _, _ = chi2_contingency(table)\n",
    "p"
   ]
  },
  {
   "cell_type": "markdown",
   "id": "44b9e32e",
   "metadata": {},
   "source": [
    "Объединим в группы такие значения признака, между распределениями по целевой переменной которых нет статистически значимых различий (т.е. р > 0.05)."
   ]
  },
  {
   "cell_type": "code",
   "execution_count": 2302,
   "id": "a75a711a",
   "metadata": {},
   "outputs": [],
   "source": [
    "train_df['Purpose_cat'] = 'C'"
   ]
  },
  {
   "cell_type": "code",
   "execution_count": 2303,
   "id": "3f2d4d3a",
   "metadata": {},
   "outputs": [],
   "source": [
    "train_df.loc[train_df['Purpose'].isin(['debt consolidation', 'other', 'home improvements',\n",
    "                           'take a trip', 'buy a car', 'wedding', 'educational expenses',\n",
    "                           'buy house', 'medical bills', 'moving', 'major purchase','vacation']), 'Purpose_cat'] = 'A'"
   ]
  },
  {
   "cell_type": "code",
   "execution_count": 2304,
   "id": "2f548907",
   "metadata": {},
   "outputs": [],
   "source": [
    "train_df.loc[train_df['Purpose'].isin(['small business', 'business loan']), 'Purpose_cat'] = 'B'"
   ]
  },
  {
   "cell_type": "code",
   "execution_count": 2305,
   "id": "17cbae19",
   "metadata": {},
   "outputs": [
    {
     "data": {
      "text/plain": [
       "A    7343\n",
       "B     155\n",
       "C       2\n",
       "Name: Purpose_cat, dtype: int64"
      ]
     },
     "execution_count": 2305,
     "metadata": {},
     "output_type": "execute_result"
    }
   ],
   "source": [
    "train_df['Purpose_cat'].value_counts()"
   ]
  },
  {
   "cell_type": "code",
   "execution_count": 2306,
   "id": "ff98fc6d",
   "metadata": {},
   "outputs": [],
   "source": [
    "train_df = pd.concat([train_df, pd.get_dummies(train_df['Purpose_cat'], prefix='Purpose_cat')], axis=1)"
   ]
  },
  {
   "cell_type": "markdown",
   "id": "973cff35",
   "metadata": {},
   "source": [
    "Оценим корреляцию признаков между собой."
   ]
  },
  {
   "cell_type": "code",
   "execution_count": 2307,
   "id": "a62db9a0",
   "metadata": {},
   "outputs": [
    {
     "data": {
      "image/png": "[encoded data removed]",
      "text/plain": [
       "<Figure size 1800x1440 with 2 Axes>"
      ]
     },
     "metadata": {
      "needs_background": "light"
     },
     "output_type": "display_data"
    }
   ],
   "source": [
    "plt.figure(figsize = (25,20))\n",
    "\n",
    "sns.set(font_scale=1.4)\n",
    "sns.heatmap(train_df[BASE_FEATURE_NAMES].corr().round(3), annot=True, linewidths=.5, cmap='GnBu')\n",
    "\n",
    "plt.title('Correlation matrix')\n",
    "plt.show()"
   ]
  },
  {
   "cell_type": "markdown",
   "id": "0770a63d",
   "metadata": {},
   "source": [
    "\"Bankruptcies\" слабо коррелирует с целевой переменной, при этом замечена существенная корреляция с признаком \"Number of Credit Problems\". Поэтому признак \"Bankruptcies\" можно не использовать"
   ]
  },
  {
   "cell_type": "markdown",
   "id": "39b9cbe0",
   "metadata": {},
   "source": [
    "### Генерация новых признаков"
   ]
  },
  {
   "cell_type": "markdown",
   "id": "41219b7b",
   "metadata": {},
   "source": [
    "По идее, чем меньше человеку осталось платить кредит, тем вероятнее он его всё-таки выплатит и будет в целом платежеспособным. Введём признак 'Left Credit Term':"
   ]
  },
  {
   "cell_type": "code",
   "execution_count": 2308,
   "id": "8569c1bc",
   "metadata": {},
   "outputs": [],
   "source": [
    "train_df['Left Credit Term'] = 0"
   ]
  },
  {
   "cell_type": "code",
   "execution_count": 2309,
   "id": "77d19e0d",
   "metadata": {},
   "outputs": [],
   "source": [
    "train_df.loc[train_df['Monthly Debt'] != 0, 'Left Credit Term'] = train_df['Current Loan Amount'] / train_df['Monthly Debt']"
   ]
  },
  {
   "cell_type": "markdown",
   "id": "13fb2476",
   "metadata": {},
   "source": [
    "Учтём, что ипотеки дают максимум на 100 лет (1200 месяцев), и обработаем выбросы."
   ]
  },
  {
   "cell_type": "code",
   "execution_count": 2310,
   "id": "f94fb286",
   "metadata": {},
   "outputs": [],
   "source": [
    "train_df.loc[df['Left Credit Term'] > 1200, 'Left Credit Term'] = train_df['Left Credit Term'].median()"
   ]
  },
  {
   "cell_type": "markdown",
   "id": "8dc2cda2",
   "metadata": {},
   "source": [
    "Введём признак платежеспособности: вычтем из годового дохода месячный долг, умноженный на 12"
   ]
  },
  {
   "cell_type": "code",
   "execution_count": 2311,
   "id": "a8fdc559",
   "metadata": {},
   "outputs": [],
   "source": [
    "train_df['Solvency'] = train_df['Annual Income'] - 12 * train_df['Monthly Debt']"
   ]
  },
  {
   "cell_type": "code",
   "execution_count": 2312,
   "id": "bef64c0f",
   "metadata": {},
   "outputs": [
    {
     "data": {
      "image/png": "[encoded data removed]",
      "text/plain": [
       "<Figure size 432x432 with 1 Axes>"
      ]
     },
     "metadata": {},
     "output_type": "display_data"
    }
   ],
   "source": [
    "train_df['Solvency'].hist(figsize=(6, 6), grid=False);"
   ]
  },
  {
   "cell_type": "markdown",
   "id": "53dc99bb",
   "metadata": {},
   "source": [
    "Введём признак, обозначающий \"коэффициент ненадёжности\" клиента. Т.е. кол-во проблем с кредитом+банкротства, делённое на кол-во открытых счетов. Если открытых счетов - 0, присвоим коэффициент 0.5 (50% надежности)"
   ]
  },
  {
   "cell_type": "code",
   "execution_count": 2313,
   "id": "db150f4e",
   "metadata": {},
   "outputs": [],
   "source": [
    "train_df['Unreliability'] = 0.5\n",
    "train_df.loc[train_df['Number of Open Accounts'] != 0, 'Unreliability'] = (train_df['Bankruptcies'] + train_df['Number of Credit Problems']) / train_df['Number of Open Accounts']\n",
    "train_df.loc[train_df['Unreliability'] > 1, 'Unreliability'] = 0.5"
   ]
  },
  {
   "cell_type": "markdown",
   "id": "a457f7a5",
   "metadata": {},
   "source": [
    "### Оформление генерации новых фич в класс"
   ]
  },
  {
   "cell_type": "code",
   "execution_count": 2314,
   "id": "6980ffdd",
   "metadata": {},
   "outputs": [],
   "source": [
    "class FeatureGenerator():\n",
    "    \"\"\"Генерация новых фич\"\"\"\n",
    "    \n",
    "    def __init__(self):\n",
    "        self.default_by_home_ownership = None\n",
    "        self.default_by_home_ownership_median = None\n",
    "        self.train_income_max = None\n",
    "        self.credit_default_by_income = None\n",
    "        self.credit_default_by_income_median = None\n",
    "        \n",
    "        \n",
    "    def income_to_cat(self, X):\n",
    "        bins = [0, 1000000, 2000000, 4000000, self.train_income_max]\n",
    "        X['income_cat'] = pd.cut(X['Annual Income'], bins=bins, labels=False)\n",
    "    \n",
    "        X['income_cat'].fillna(-1, inplace=True)\n",
    "        return X\n",
    "    \n",
    "    def fit(self, X, y=None):\n",
    "        \n",
    "        X = X.copy()\n",
    "            \n",
    "        # Target encoding\n",
    "        ## Home Ownership\n",
    "        df = X.copy()\n",
    "        \n",
    "        if y is not None:\n",
    "            df['Credit Default'] = y.values\n",
    "            self.default_by_home_ownership = df.groupby('Home Ownership', as_index=False).mean()[['Home Ownership', 'Credit Default']].rename(columns={\n",
    "                        'Credit Default': 'target_encode_home_ownership'\n",
    "                        })\n",
    "                                          \n",
    "            self.default_by_home_ownership_median = self.default_by_home_ownership['target_encode_home_ownership'].median()\n",
    "            \n",
    "        ## Annual Income\n",
    "        if y is not None:\n",
    "            self.train_income_max = df['Annual Income'].max()\n",
    "            df['Credit Default'] = y.values\n",
    "            df = self.income_to_cat(df)\n",
    "            self.credit_default_by_income = df.groupby(['income_cat'], as_index=False).agg({'Credit Default':'mean'}).\\\n",
    "                                            rename(columns={'Credit Default':'Credit Default By Income'})\n",
    "            self.credit_default_by_income_median = self.credit_default_by_income['Credit Default By Income'].median()\n",
    "        \n",
    "\n",
    "        \n",
    "    def transform(self, X):\n",
    "        \n",
    "        #Purpose_cat\n",
    "        X['Purpose_cat'] = 'C'\n",
    "        X.loc[X['Purpose'].isin(['debt consolidation', 'other', 'home improvements',\n",
    "                           'take a trip', 'buy a car', 'wedding', 'educational expenses',\n",
    "                           'buy house', 'medical bills', 'moving', 'major purchase','vacation']), 'Purpose_cat'] = 'A'\n",
    "        X.loc[X['Purpose'].isin(['small business', 'business loan']), 'Purpose_cat'] = 'B'\n",
    "        \n",
    "        X = pd.concat([X, pd.get_dummies(X['Purpose_cat'], prefix='Purpose_cat')], axis=1)\n",
    "       \n",
    "        #Left Credit Term\n",
    "        X['Left Credit Term'] = 0\n",
    "        X.loc[X['Monthly Debt'] != 0, 'Left Credit Term'] = X['Current Loan Amount'] / X['Monthly Debt']\n",
    "        X.loc[X['Left Credit Term'] > 1200, 'Left Credit Term'] = X['Left Credit Term'].median()\n",
    "        \n",
    "        #Solvency\n",
    "        X['Solvency'] = X['Annual Income'] - 12 * X['Monthly Debt']\n",
    "    \n",
    "        #Unreliability\n",
    "        X['Unreliability'] = 0.5\n",
    "        X.loc[X['Number of Open Accounts'] != 0, 'Unreliability'] = (X['Bankruptcies'] + X['Number of Credit Problems']) / X['Number of Open Accounts']\n",
    "        X.loc[X['Unreliability'] > 1, 'Unreliability'] = 0.5\n",
    "    \n",
    "            \n",
    "        # More categorical features\n",
    "        X = self.income_to_cat(X)  # + столбец income_cat\n",
    "      \n",
    "        # Target encoding\n",
    "        if self.default_by_home_ownership is not None:\n",
    "            X = X.merge(self.default_by_home_ownership, on=['Home Ownership'], how='left')\n",
    "            X['target_encode_home_ownership'].fillna(self.default_by_home_ownership_median, inplace=True)\n",
    "            \n",
    "        if self.credit_default_by_income is not None:\n",
    "            X = X.merge(self.credit_default_by_income, on=['income_cat'], how='left')\n",
    "            X['Credit Default By Income'].fillna(self.credit_default_by_income_median, inplace=True)\n",
    "            \n",
    "        if 'Purpose_cat_C' not in X:\n",
    "            X['Purpose_cat_C'] = 0\n",
    "        \n",
    "        return X"
   ]
  },
  {
   "cell_type": "markdown",
   "id": "7184e218",
   "metadata": {},
   "source": [
    "Выбираем признаки, по которым будем строить модель."
   ]
  },
  {
   "cell_type": "code",
   "execution_count": 2315,
   "id": "87699d43",
   "metadata": {},
   "outputs": [
    {
     "data": {
      "text/plain": [
       "['Home Ownership',\n",
       " 'Annual Income',\n",
       " 'Years in current job',\n",
       " 'Tax Liens',\n",
       " 'Number of Open Accounts',\n",
       " 'Years of Credit History',\n",
       " 'Maximum Open Credit',\n",
       " 'Number of Credit Problems',\n",
       " 'Months since last delinquent',\n",
       " 'Bankruptcies',\n",
       " 'Purpose',\n",
       " 'Term',\n",
       " 'Current Loan Amount',\n",
       " 'Current Credit Balance',\n",
       " 'Monthly Debt',\n",
       " 'Credit Score',\n",
       " 'Credit Default',\n",
       " 'Home Ownership_Home Mortgage',\n",
       " 'Home Ownership_Own Home',\n",
       " 'Home Ownership_Rent',\n",
       " 'ID',\n",
       " 'Purpose_cat',\n",
       " 'Purpose_cat_A',\n",
       " 'Purpose_cat_B',\n",
       " 'Purpose_cat_C',\n",
       " 'Left Credit Term',\n",
       " 'Solvency',\n",
       " 'Unreliability']"
      ]
     },
     "execution_count": 2315,
     "metadata": {},
     "output_type": "execute_result"
    }
   ],
   "source": [
    "train_df.columns.tolist()"
   ]
  },
  {
   "cell_type": "code",
   "execution_count": 2316,
   "id": "90e0af14",
   "metadata": {},
   "outputs": [],
   "source": [
    "TARGET_NAME = 'Credit Default'\n",
    "\n",
    "NUM_FEATURE_NAMES = ['Annual Income', 'Years in current job', 'Tax Liens', \n",
    "                     'Number of Open Accounts', 'Years of Credit History', 'Maximum Open Credit',\n",
    "                     'Number of Credit Problems', 'Current Loan Amount',\n",
    "                     'Current Credit Balance', 'Monthly Debt', 'Credit Score',\n",
    "                     'Left Credit Term', 'Solvency', 'Unreliability', 'Term', 'Home Ownership_Home Mortgage', 'Home Ownership_Own Home',\n",
    "                     'Home Ownership_Rent', 'Purpose_cat_A', 'Purpose_cat_B']\n",
    "\n",
    "CAT_FEATURE_NAMES = ['Home Ownership', 'Purpose', 'Purpose_cat']"
   ]
  },
  {
   "cell_type": "code",
   "execution_count": 2317,
   "id": "8e160b02",
   "metadata": {},
   "outputs": [],
   "source": [
    "train_df = pd.read_csv(TRAIN_DATASET_PATH)\n",
    "test_df = pd.read_csv(TEST_DATASET_PATH)\n",
    "\n",
    "X = train_df.drop(columns=TARGET_NAME)\n",
    "y = train_df[TARGET_NAME]"
   ]
  },
  {
   "cell_type": "markdown",
   "id": "f17c9fd8",
   "metadata": {},
   "source": [
    "Подготовим данные из датасетов для обучения и теста:"
   ]
  },
  {
   "cell_type": "code",
   "execution_count": 2318,
   "id": "515b8134",
   "metadata": {},
   "outputs": [
    {
     "data": {
      "text/plain": [
       "((7500, 20), (2500, 20))"
      ]
     },
     "execution_count": 2318,
     "metadata": {},
     "output_type": "execute_result"
    }
   ],
   "source": [
    "preprocessor = DataPreprocessing()\n",
    "preprocessor.fit(X)\n",
    "\n",
    "X = preprocessor.transform(X)\n",
    "test_df = preprocessor.transform(test_df)\n",
    "\n",
    "X.shape, test_df.shape"
   ]
  },
  {
   "cell_type": "markdown",
   "id": "35bf6c82",
   "metadata": {},
   "source": [
    "Сгенерируем новые признаки:"
   ]
  },
  {
   "cell_type": "code",
   "execution_count": 2319,
   "id": "5258919a",
   "metadata": {},
   "outputs": [
    {
     "data": {
      "text/plain": [
       "((7500, 30), (2500, 30))"
      ]
     },
     "execution_count": 2319,
     "metadata": {},
     "output_type": "execute_result"
    }
   ],
   "source": [
    "features_gen = FeatureGenerator()\n",
    "features_gen.fit(X, y)\n",
    "\n",
    "X = features_gen.transform(X)\n",
    "test_df = features_gen.transform(test_df)\n",
    "\n",
    "X.shape, test_df.shape"
   ]
  },
  {
   "cell_type": "markdown",
   "id": "4c9e8cd1",
   "metadata": {},
   "source": [
    "Проведём нормализацию значений признаков:"
   ]
  },
  {
   "cell_type": "code",
   "execution_count": 2320,
   "id": "76c33dcf",
   "metadata": {},
   "outputs": [],
   "source": [
    "scaler = StandardScaler()\n",
    "\n",
    "X_norm = X.copy()\n",
    "X_norm[NUM_FEATURE_NAMES] = scaler.fit_transform(X_norm[NUM_FEATURE_NAMES])\n",
    "\n",
    "X = X_norm.copy()\n",
    "\n",
    "test_df_norm = test_df.copy()\n",
    "test_df_norm[NUM_FEATURE_NAMES] = scaler.fit_transform(test_df_norm[NUM_FEATURE_NAMES])\n",
    "\n",
    "test_df = test_df_norm.copy()"
   ]
  },
  {
   "cell_type": "markdown",
   "id": "77ab5888",
   "metadata": {},
   "source": [
    "Разделим датасет на два: для обучения и валидации:"
   ]
  },
  {
   "cell_type": "code",
   "execution_count": 2321,
   "id": "a492ca5d",
   "metadata": {},
   "outputs": [],
   "source": [
    "X_train, X_valid, y_train, y_valid = train_test_split(X, y, test_size=0.33, shuffle=True, random_state=26, stratify=y)"
   ]
  },
  {
   "cell_type": "code",
   "execution_count": 2322,
   "id": "255f2ab7",
   "metadata": {},
   "outputs": [
    {
     "data": {
      "text/plain": [
       "((5025, 30), (2475, 30), (2500, 30))"
      ]
     },
     "execution_count": 2322,
     "metadata": {},
     "output_type": "execute_result"
    }
   ],
   "source": [
    "X_train.shape, X_valid.shape, test_df.shape"
   ]
  },
  {
   "cell_type": "markdown",
   "id": "41496320",
   "metadata": {},
   "source": [
    "Сохраним полученные датасеты без балансировки для модели CatBoost. Для остальных датасетов проведём балансировку по целевому признаку.\n",
    "Было установлено, что с балансировкой методом андерсэмплинга метрики получаются лучше, чем при балансировке другими методами."
   ]
  },
  {
   "cell_type": "code",
   "execution_count": 2323,
   "id": "adab211d",
   "metadata": {},
   "outputs": [],
   "source": [
    "X_train_cb = X_train\n",
    "X_valid_cb = X_valid\n",
    "y_train_cb = y_train\n",
    "y_valid_cb = y_valid"
   ]
  },
  {
   "cell_type": "code",
   "execution_count": 2324,
   "id": "6e3f5032",
   "metadata": {},
   "outputs": [
    {
     "data": {
      "text/plain": [
       "1    1416\n",
       "0    1416\n",
       "Name: Credit Default, dtype: int64"
      ]
     },
     "execution_count": 2324,
     "metadata": {},
     "output_type": "execute_result"
    }
   ],
   "source": [
    "df_for_balancing = pd.concat([X_train, y_train], axis=1)\n",
    "df_balanced = balance_df_by_target(df_for_balancing, TARGET_NAME, 'under')\n",
    "    \n",
    "df_balanced[TARGET_NAME].value_counts()"
   ]
  },
  {
   "cell_type": "code",
   "execution_count": 2325,
   "id": "93488db7",
   "metadata": {},
   "outputs": [],
   "source": [
    "X_train = df_balanced.drop(columns=TARGET_NAME)\n",
    "y_train = df_balanced[TARGET_NAME]"
   ]
  },
  {
   "cell_type": "markdown",
   "id": "43569992",
   "metadata": {},
   "source": [
    "Отберём только числовые данные для построения моделей:"
   ]
  },
  {
   "cell_type": "code",
   "execution_count": 2326,
   "id": "b6845381",
   "metadata": {},
   "outputs": [],
   "source": [
    "X_num = X_train[NUM_FEATURE_NAMES]\n",
    "X_val = X_valid[NUM_FEATURE_NAMES]"
   ]
  },
  {
   "cell_type": "markdown",
   "id": "32d583e6",
   "metadata": {},
   "source": [
    "Строим модель логистической регрессии. Метрики получаются в целом неплохие в сравнении с другими моделями. Модель не сильно переобучается."
   ]
  },
  {
   "cell_type": "code",
   "execution_count": 2327,
   "id": "154b1ac3",
   "metadata": {},
   "outputs": [
    {
     "name": "stdout",
     "output_type": "stream",
     "text": [
      "TRAIN\n",
      "\n",
      "              precision    recall  f1-score   support\n",
      "\n",
      "           0       0.60      0.66      0.63      1416\n",
      "           1       0.62      0.56      0.59      1416\n",
      "\n",
      "    accuracy                           0.61      2832\n",
      "   macro avg       0.61      0.61      0.61      2832\n",
      "weighted avg       0.61      0.61      0.61      2832\n",
      "\n",
      "TEST\n",
      "\n",
      "              precision    recall  f1-score   support\n",
      "\n",
      "           0       0.82      0.71      0.76      1778\n",
      "           1       0.45      0.59      0.51       697\n",
      "\n",
      "    accuracy                           0.68      2475\n",
      "   macro avg       0.63      0.65      0.63      2475\n",
      "weighted avg       0.71      0.68      0.69      2475\n",
      "\n",
      "CONFUSION MATRIX\n",
      "\n",
      "col_0              0    1\n",
      "Credit Default           \n",
      "0               1267  511\n",
      "1                286  411\n"
     ]
    }
   ],
   "source": [
    "model_lr = LogisticRegression(C=0.01, max_iter=7)\n",
    "model_lr.fit(X_num, y_train)\n",
    "\n",
    "evaluate_preds(model_lr, X_num, X_val, y_train, y_valid)"
   ]
  },
  {
   "cell_type": "markdown",
   "id": "ede4b278",
   "metadata": {},
   "source": [
    "Модель К-ближайших соседей. Метрики так себе, сильное переобучение."
   ]
  },
  {
   "cell_type": "code",
   "execution_count": 2328,
   "id": "878dee5e",
   "metadata": {},
   "outputs": [
    {
     "name": "stdout",
     "output_type": "stream",
     "text": [
      "TRAIN\n",
      "\n",
      "              precision    recall  f1-score   support\n",
      "\n",
      "           0       0.71      0.78      0.74      1416\n",
      "           1       0.75      0.68      0.72      1416\n",
      "\n",
      "    accuracy                           0.73      2832\n",
      "   macro avg       0.73      0.73      0.73      2832\n",
      "weighted avg       0.73      0.73      0.73      2832\n",
      "\n",
      "TEST\n",
      "\n",
      "              precision    recall  f1-score   support\n",
      "\n",
      "           0       0.78      0.57      0.66      1778\n",
      "           1       0.35      0.59      0.44       697\n",
      "\n",
      "    accuracy                           0.58      2475\n",
      "   macro avg       0.57      0.58      0.55      2475\n",
      "weighted avg       0.66      0.58      0.60      2475\n",
      "\n",
      "CONFUSION MATRIX\n",
      "\n",
      "col_0              0    1\n",
      "Credit Default           \n",
      "0               1022  756\n",
      "1                283  414\n"
     ]
    }
   ],
   "source": [
    "model_knn = KNeighborsClassifier()\n",
    "model_knn.fit(X_num, y_train)\n",
    "\n",
    "evaluate_preds(model_knn, X_num, X_val, y_train, y_valid)"
   ]
  },
  {
   "cell_type": "markdown",
   "id": "ae1df26a",
   "metadata": {},
   "source": [
    "Модель Extreme Gradient Boosting. Метрики так себе, очень сильное переобучение без регуляризации."
   ]
  },
  {
   "cell_type": "code",
   "execution_count": 2329,
   "id": "eef2460d",
   "metadata": {},
   "outputs": [
    {
     "name": "stdout",
     "output_type": "stream",
     "text": [
      "[14:25:33] WARNING: C:/Users/Administrator/workspace/xgboost-win64_release_1.5.1/src/learner.cc:1115: Starting in XGBoost 1.3.0, the default evaluation metric used with the objective 'binary:logistic' was changed from 'error' to 'logloss'. Explicitly set eval_metric if you'd like to restore the old behavior.\n",
      "TRAIN\n",
      "\n",
      "              precision    recall  f1-score   support\n",
      "\n",
      "           0       1.00      1.00      1.00      1416\n",
      "           1       1.00      1.00      1.00      1416\n",
      "\n",
      "    accuracy                           1.00      2832\n",
      "   macro avg       1.00      1.00      1.00      2832\n",
      "weighted avg       1.00      1.00      1.00      2832\n",
      "\n",
      "TEST\n",
      "\n",
      "              precision    recall  f1-score   support\n",
      "\n",
      "           0       0.82      0.56      0.67      1778\n",
      "           1       0.38      0.69      0.49       697\n",
      "\n",
      "    accuracy                           0.60      2475\n",
      "   macro avg       0.60      0.63      0.58      2475\n",
      "weighted avg       0.70      0.60      0.62      2475\n",
      "\n",
      "CONFUSION MATRIX\n",
      "\n",
      "col_0              0    1\n",
      "Credit Default           \n",
      "0               1001  777\n",
      "1                217  480\n"
     ]
    }
   ],
   "source": [
    "model_xgb = xgb.XGBClassifier(random_state=26)\n",
    "model_xgb.fit(X_num, y_train)\n",
    "\n",
    "evaluate_preds(model_xgb, X_num, X_val, y_train, y_valid)"
   ]
  },
  {
   "cell_type": "markdown",
   "id": "6bbb6984",
   "metadata": {},
   "source": [
    "Модель Light Gradient Boosting. Метрики неплохие, значительное переобучение."
   ]
  },
  {
   "cell_type": "code",
   "execution_count": 2330,
   "id": "c34fd52d",
   "metadata": {},
   "outputs": [
    {
     "name": "stdout",
     "output_type": "stream",
     "text": [
      "TRAIN\n",
      "\n",
      "              precision    recall  f1-score   support\n",
      "\n",
      "           0       0.98      0.98      0.98      1416\n",
      "           1       0.98      0.98      0.98      1416\n",
      "\n",
      "    accuracy                           0.98      2832\n",
      "   macro avg       0.98      0.98      0.98      2832\n",
      "weighted avg       0.98      0.98      0.98      2832\n",
      "\n",
      "TEST\n",
      "\n",
      "              precision    recall  f1-score   support\n",
      "\n",
      "           0       0.83      0.56      0.67      1778\n",
      "           1       0.39      0.71      0.50       697\n",
      "\n",
      "    accuracy                           0.60      2475\n",
      "   macro avg       0.61      0.63      0.59      2475\n",
      "weighted avg       0.71      0.60      0.62      2475\n",
      "\n",
      "CONFUSION MATRIX\n",
      "\n",
      "col_0              0    1\n",
      "Credit Default           \n",
      "0               1002  776\n",
      "1                205  492\n"
     ]
    }
   ],
   "source": [
    "model_lgbm = lgbm.LGBMClassifier(random_state=26)\n",
    "model_lgbm.fit(X_num, y_train)\n",
    "\n",
    "evaluate_preds(model_lgbm, X_num, X_val, y_train, y_valid)"
   ]
  },
  {
   "cell_type": "markdown",
   "id": "ccfbe1cf",
   "metadata": {},
   "source": [
    "Модель CatBoost (только с числовыми сбалансированными данными, без регуляризации): метрики самые хорошие, значительное переобучение."
   ]
  },
  {
   "cell_type": "code",
   "execution_count": 2331,
   "id": "e0ad08a6",
   "metadata": {},
   "outputs": [
    {
     "name": "stdout",
     "output_type": "stream",
     "text": [
      "TRAIN\n",
      "\n",
      "              precision    recall  f1-score   support\n",
      "\n",
      "           0       0.92      0.90      0.91      1416\n",
      "           1       0.90      0.92      0.91      1416\n",
      "\n",
      "    accuracy                           0.91      2832\n",
      "   macro avg       0.91      0.91      0.91      2832\n",
      "weighted avg       0.91      0.91      0.91      2832\n",
      "\n",
      "TEST\n",
      "\n",
      "              precision    recall  f1-score   support\n",
      "\n",
      "           0       0.84      0.59      0.69      1778\n",
      "           1       0.40      0.70      0.51       697\n",
      "\n",
      "    accuracy                           0.62      2475\n",
      "   macro avg       0.62      0.65      0.60      2475\n",
      "weighted avg       0.71      0.62      0.64      2475\n",
      "\n",
      "CONFUSION MATRIX\n",
      "\n",
      "col_0              0    1\n",
      "Credit Default           \n",
      "0               1054  724\n",
      "1                206  491\n"
     ]
    }
   ],
   "source": [
    "model_catb = catb.CatBoostClassifier(silent=True, random_state=26)\n",
    "model_catb.fit(X_num, y_train)\n",
    "\n",
    "evaluate_preds(model_catb, X_num, X_val, y_train, y_valid)"
   ]
  },
  {
   "cell_type": "code",
   "execution_count": 2332,
   "id": "92d92457",
   "metadata": {},
   "outputs": [
    {
     "data": {
      "image/png": "[encoded data removed]",
      "text/plain": [
       "<Figure size 1440x511.2 with 1 Axes>"
      ]
     },
     "metadata": {},
     "output_type": "display_data"
    }
   ],
   "source": [
    "important_features_top = show_feature_importances(X_num.columns,\n",
    "                                                  model_catb.feature_importances_)"
   ]
  },
  {
   "cell_type": "code",
   "execution_count": 2333,
   "id": "abf64f8c",
   "metadata": {},
   "outputs": [
    {
     "data": {
      "text/html": [
       "<div>\n",
       "<style scoped>\n",
       "    .dataframe tbody tr th:only-of-type {\n",
       "        vertical-align: middle;\n",
       "    }\n",
       "\n",
       "    .dataframe tbody tr th {\n",
       "        vertical-align: top;\n",
       "    }\n",
       "\n",
       "    .dataframe thead th {\n",
       "        text-align: right;\n",
       "    }\n",
       "</style>\n",
       "<table border=\"1\" class=\"dataframe\">\n",
       "  <thead>\n",
       "    <tr style=\"text-align: right;\">\n",
       "      <th></th>\n",
       "      <th>feature_name</th>\n",
       "      <th>importance</th>\n",
       "    </tr>\n",
       "  </thead>\n",
       "  <tbody>\n",
       "    <tr>\n",
       "      <th>7</th>\n",
       "      <td>Current Loan Amount</td>\n",
       "      <td>23.317745</td>\n",
       "    </tr>\n",
       "    <tr>\n",
       "      <th>10</th>\n",
       "      <td>Credit Score</td>\n",
       "      <td>11.810989</td>\n",
       "    </tr>\n",
       "    <tr>\n",
       "      <th>4</th>\n",
       "      <td>Years of Credit History</td>\n",
       "      <td>8.031680</td>\n",
       "    </tr>\n",
       "    <tr>\n",
       "      <th>5</th>\n",
       "      <td>Maximum Open Credit</td>\n",
       "      <td>7.595863</td>\n",
       "    </tr>\n",
       "    <tr>\n",
       "      <th>12</th>\n",
       "      <td>Solvency</td>\n",
       "      <td>6.629257</td>\n",
       "    </tr>\n",
       "    <tr>\n",
       "      <th>9</th>\n",
       "      <td>Monthly Debt</td>\n",
       "      <td>6.382289</td>\n",
       "    </tr>\n",
       "    <tr>\n",
       "      <th>8</th>\n",
       "      <td>Current Credit Balance</td>\n",
       "      <td>6.365406</td>\n",
       "    </tr>\n",
       "    <tr>\n",
       "      <th>11</th>\n",
       "      <td>Left Credit Term</td>\n",
       "      <td>6.343989</td>\n",
       "    </tr>\n",
       "    <tr>\n",
       "      <th>0</th>\n",
       "      <td>Annual Income</td>\n",
       "      <td>5.910660</td>\n",
       "    </tr>\n",
       "    <tr>\n",
       "      <th>1</th>\n",
       "      <td>Years in current job</td>\n",
       "      <td>4.804179</td>\n",
       "    </tr>\n",
       "    <tr>\n",
       "      <th>3</th>\n",
       "      <td>Number of Open Accounts</td>\n",
       "      <td>4.284522</td>\n",
       "    </tr>\n",
       "    <tr>\n",
       "      <th>14</th>\n",
       "      <td>Term</td>\n",
       "      <td>2.698432</td>\n",
       "    </tr>\n",
       "    <tr>\n",
       "      <th>17</th>\n",
       "      <td>Home Ownership_Rent</td>\n",
       "      <td>1.327170</td>\n",
       "    </tr>\n",
       "    <tr>\n",
       "      <th>13</th>\n",
       "      <td>Unreliability</td>\n",
       "      <td>1.226594</td>\n",
       "    </tr>\n",
       "    <tr>\n",
       "      <th>15</th>\n",
       "      <td>Home Ownership_Home Mortgage</td>\n",
       "      <td>0.978989</td>\n",
       "    </tr>\n",
       "    <tr>\n",
       "      <th>6</th>\n",
       "      <td>Number of Credit Problems</td>\n",
       "      <td>0.650776</td>\n",
       "    </tr>\n",
       "    <tr>\n",
       "      <th>16</th>\n",
       "      <td>Home Ownership_Own Home</td>\n",
       "      <td>0.614756</td>\n",
       "    </tr>\n",
       "    <tr>\n",
       "      <th>18</th>\n",
       "      <td>Purpose_cat_A</td>\n",
       "      <td>0.493504</td>\n",
       "    </tr>\n",
       "    <tr>\n",
       "      <th>2</th>\n",
       "      <td>Tax Liens</td>\n",
       "      <td>0.303977</td>\n",
       "    </tr>\n",
       "    <tr>\n",
       "      <th>19</th>\n",
       "      <td>Purpose_cat_B</td>\n",
       "      <td>0.229221</td>\n",
       "    </tr>\n",
       "  </tbody>\n",
       "</table>\n",
       "</div>"
      ],
      "text/plain": [
       "                    feature_name  importance\n",
       "7            Current Loan Amount   23.317745\n",
       "10                  Credit Score   11.810989\n",
       "4        Years of Credit History    8.031680\n",
       "5            Maximum Open Credit    7.595863\n",
       "12                      Solvency    6.629257\n",
       "9                   Monthly Debt    6.382289\n",
       "8         Current Credit Balance    6.365406\n",
       "11              Left Credit Term    6.343989\n",
       "0                  Annual Income    5.910660\n",
       "1           Years in current job    4.804179\n",
       "3        Number of Open Accounts    4.284522\n",
       "14                          Term    2.698432\n",
       "17           Home Ownership_Rent    1.327170\n",
       "13                 Unreliability    1.226594\n",
       "15  Home Ownership_Home Mortgage    0.978989\n",
       "6      Number of Credit Problems    0.650776\n",
       "16       Home Ownership_Own Home    0.614756\n",
       "18                 Purpose_cat_A    0.493504\n",
       "2                      Tax Liens    0.303977\n",
       "19                 Purpose_cat_B    0.229221"
      ]
     },
     "execution_count": 2333,
     "metadata": {},
     "output_type": "execute_result"
    }
   ],
   "source": [
    "feature_importances = pd.DataFrame(zip(X_num.columns, model_catb.feature_importances_), \n",
    "                                   columns=['feature_name', 'importance'])\n",
    "\n",
    "feature_importances.sort_values(by='importance', ascending=False)"
   ]
  },
  {
   "cell_type": "markdown",
   "id": "f2e9c8b6",
   "metadata": {},
   "source": [
    "Было установлено, что признак Purpose_cat_C имеет практически нулевую важность, поэтому он не использовался при построении моделей.\n",
    "Остальные признаки ок, нет признаков со слишком высокой важностью, все оставляем. Для снижения переобучения можно было бы часть убрать при необходимости."
   ]
  },
  {
   "cell_type": "markdown",
   "id": "b6df0864",
   "metadata": {},
   "source": [
    "## Финальная модель"
   ]
  },
  {
   "cell_type": "markdown",
   "id": "6ce8d80f",
   "metadata": {},
   "source": [
    "Строим модель CatBoost без балансировки данных, но с указанием коэффициента дисбаланса. Используем категориальные признаки. Подберём гиперпараметры для снижения переобучения."
   ]
  },
  {
   "cell_type": "code",
   "execution_count": 2334,
   "id": "8430d1e6",
   "metadata": {},
   "outputs": [
    {
     "data": {
      "text/plain": [
       "2.549455750118315"
      ]
     },
     "execution_count": 2334,
     "metadata": {},
     "output_type": "execute_result"
    }
   ],
   "source": [
    "target_counts = train_df['Credit Default'].value_counts()\n",
    "\n",
    "major_class_name = target_counts.argmax()\n",
    "minor_class_name = target_counts.argmin()\n",
    "\n",
    "disbalance_coeff = target_counts[major_class_name] / target_counts[minor_class_name]\n",
    "disbalance_coeff"
   ]
  },
  {
   "cell_type": "code",
   "execution_count": 2335,
   "id": "4b4cc162",
   "metadata": {},
   "outputs": [],
   "source": [
    "frozen_params = {\n",
    "      'class_weights':[1, disbalance_coeff], \n",
    "     'silent':True,\n",
    "     'random_state':26,\n",
    "     'cat_features':CAT_FEATURE_NAMES,\n",
    "     'eval_metric':'F1',\n",
    "     'early_stopping_rounds':20\n",
    "}"
   ]
  },
  {
   "cell_type": "code",
   "execution_count": 2336,
   "id": "a00a8db1",
   "metadata": {},
   "outputs": [
    {
     "name": "stdout",
     "output_type": "stream",
     "text": [
      "TRAIN\n",
      "\n",
      "              precision    recall  f1-score   support\n",
      "\n",
      "           0       0.95      0.86      0.90      3609\n",
      "           1       0.71      0.89      0.79      1416\n",
      "\n",
      "    accuracy                           0.87      5025\n",
      "   macro avg       0.83      0.87      0.85      5025\n",
      "weighted avg       0.88      0.87      0.87      5025\n",
      "\n",
      "TEST\n",
      "\n",
      "              precision    recall  f1-score   support\n",
      "\n",
      "           0       0.83      0.75      0.79      1778\n",
      "           1       0.49      0.61      0.54       697\n",
      "\n",
      "    accuracy                           0.71      2475\n",
      "   macro avg       0.66      0.68      0.67      2475\n",
      "weighted avg       0.73      0.71      0.72      2475\n",
      "\n",
      "CONFUSION MATRIX\n",
      "\n",
      "col_0              0    1\n",
      "Credit Default           \n",
      "0               1333  445\n",
      "1                271  426\n"
     ]
    }
   ],
   "source": [
    "model_catb1 = catb.CatBoostClassifier(**frozen_params)\n",
    "model_catb1.fit(X_train_cb, y_train_cb)\n",
    "\n",
    "evaluate_preds(model_catb1, X_train_cb, X_valid_cb, y_train_cb, y_valid_cb)"
   ]
  },
  {
   "cell_type": "code",
   "execution_count": 2337,
   "id": "4c915a4a",
   "metadata": {},
   "outputs": [],
   "source": [
    "params = {'n_estimators':np.arange(130,170, 5),\n",
    "          'max_depth':[5, 6, 7],\n",
    "         'reg_lambda': np.linspace(4.5, 6, 20)}"
   ]
  },
  {
   "cell_type": "code",
   "execution_count": 2338,
   "id": "875ca6b8",
   "metadata": {},
   "outputs": [],
   "source": [
    "cv=StratifiedKFold(n_splits=5, random_state=26, shuffle=True)"
   ]
  },
  {
   "cell_type": "markdown",
   "id": "6075f8b4",
   "metadata": {},
   "source": [
    "Ниже подбор лучших гиперпараметров. Закомментирован т.к. занимает время."
   ]
  },
  {
   "cell_type": "code",
   "execution_count": 2339,
   "id": "73705365",
   "metadata": {},
   "outputs": [],
   "source": [
    "# %%time\n",
    "\n",
    "# rs = RandomizedSearchCV(model_catb1, params, scoring='f1', cv=cv, n_jobs=-1)\n",
    "# rs.fit(X_train_cb, y_train_cb)"
   ]
  },
  {
   "cell_type": "code",
   "execution_count": 2340,
   "id": "f03cafe6",
   "metadata": {},
   "outputs": [],
   "source": [
    "# rs.best_params_"
   ]
  },
  {
   "cell_type": "code",
   "execution_count": 2341,
   "id": "322bfb9d",
   "metadata": {},
   "outputs": [],
   "source": [
    "# rs.best_score_"
   ]
  },
  {
   "cell_type": "code",
   "execution_count": 2342,
   "id": "5b4a642f",
   "metadata": {},
   "outputs": [
    {
     "name": "stdout",
     "output_type": "stream",
     "text": [
      "TRAIN\n",
      "\n",
      "              precision    recall  f1-score   support\n",
      "\n",
      "           0       0.87      0.73      0.80      3609\n",
      "           1       0.51      0.71      0.60      1416\n",
      "\n",
      "    accuracy                           0.73      5025\n",
      "   macro avg       0.69      0.72      0.70      5025\n",
      "weighted avg       0.77      0.73      0.74      5025\n",
      "\n",
      "TEST\n",
      "\n",
      "              precision    recall  f1-score   support\n",
      "\n",
      "           0       0.85      0.73      0.78      1778\n",
      "           1       0.49      0.66      0.56       697\n",
      "\n",
      "    accuracy                           0.71      2475\n",
      "   macro avg       0.67      0.70      0.67      2475\n",
      "weighted avg       0.75      0.71      0.72      2475\n",
      "\n",
      "CONFUSION MATRIX\n",
      "\n",
      "col_0              0    1\n",
      "Credit Default           \n",
      "0               1297  481\n",
      "1                234  463\n"
     ]
    }
   ],
   "source": [
    "final_model = catb.CatBoostClassifier(**frozen_params, n_estimators=200,max_depth=6,reg_lambda=5.85)\n",
    "final_model.fit(X_train_cb, y_train_cb)\n",
    "\n",
    "evaluate_preds(final_model, X_train_cb, X_valid_cb, y_train_cb, y_valid_cb)\n"
   ]
  },
  {
   "cell_type": "markdown",
   "id": "2e0cbf70",
   "metadata": {},
   "source": [
    "График ниже показывает, что достаточно примерно 2500 данных для достаточного обучения."
   ]
  },
  {
   "cell_type": "code",
   "execution_count": null,
   "id": "d70158b2",
   "metadata": {},
   "outputs": [],
   "source": [
    "show_learning_curve_plot(final_model, X_train_cb, y_train_cb)"
   ]
  },
  {
   "cell_type": "code",
   "execution_count": null,
   "id": "f8d615b3",
   "metadata": {},
   "outputs": [],
   "source": [
    "y_test_pred_probs = final_model.predict_proba(X_val_cb)\n",
    "y_test_pred_probs"
   ]
  },
  {
   "cell_type": "markdown",
   "id": "0d5ba476",
   "metadata": {},
   "source": [
    "Из графиков ниже видно, что для лучшего разделения подходит отсечка 0.5 (стандартная по факту) и данные в целом разделяются с трудом, значительное пересечение.\n",
    "\n",
    "*P.S. Для одной из моделей лучшая отсечка была на уровне 0.4, но я так и не разобралась, где можно задать эту отсечку :(*"
   ]
  },
  {
   "cell_type": "code",
   "execution_count": null,
   "id": "65a5c844",
   "metadata": {},
   "outputs": [],
   "source": [
    "show_proba_calibration_plots(y_test_pred_probs[:, 1], y_val_cb)"
   ]
  },
  {
   "cell_type": "markdown",
   "id": "527382b8",
   "metadata": {},
   "source": [
    "CatBoost была выбрана как лучшая модель. Переобучение удалось значительно снизить. Получалось снизить его почти до нуля, но в таком случае были хуже метрики на валидационном датасете."
   ]
  },
  {
   "cell_type": "markdown",
   "id": "110b63b4",
   "metadata": {},
   "source": [
    "Сохраняем модель"
   ]
  },
  {
   "cell_type": "code",
   "execution_count": null,
   "id": "74b2e87f",
   "metadata": {},
   "outputs": [],
   "source": [
    "with open(MODEL_FILE_PATH, 'wb') as file:\n",
    "    pickle.dump(final_model, file)"
   ]
  },
  {
   "cell_type": "markdown",
   "id": "d0a42f5f",
   "metadata": {},
   "source": [
    "## Тестовый датасет"
   ]
  },
  {
   "cell_type": "code",
   "execution_count": null,
   "id": "30c179ad",
   "metadata": {},
   "outputs": [],
   "source": [
    "test_df.shape"
   ]
  },
  {
   "cell_type": "code",
   "execution_count": null,
   "id": "07d0ea86",
   "metadata": {},
   "outputs": [],
   "source": [
    "test_df"
   ]
  },
  {
   "cell_type": "code",
   "execution_count": null,
   "id": "70eb0439",
   "metadata": {},
   "outputs": [],
   "source": [
    "test_df.isna().sum()"
   ]
  },
  {
   "cell_type": "code",
   "execution_count": null,
   "id": "b03b571f",
   "metadata": {},
   "outputs": [],
   "source": [
    "predictions = final_model.predict(test_df)\n",
    "predictions"
   ]
  },
  {
   "cell_type": "code",
   "execution_count": null,
   "id": "1c92084d",
   "metadata": {},
   "outputs": [],
   "source": [
    "len(predictions)"
   ]
  },
  {
   "cell_type": "code",
   "execution_count": null,
   "id": "9add1e44",
   "metadata": {},
   "outputs": [],
   "source": [
    "preds = pd.DataFrame(predictions, columns = ['Credit Default'])"
   ]
  },
  {
   "cell_type": "code",
   "execution_count": null,
   "id": "e95b4d16",
   "metadata": {},
   "outputs": [],
   "source": [
    "preds"
   ]
  },
  {
   "cell_type": "code",
   "execution_count": null,
   "id": "f42ae079",
   "metadata": {},
   "outputs": [],
   "source": [
    "preds.to_csv('AShelashen_predictions.csv', index=False)"
   ]
  },
  {
   "cell_type": "markdown",
   "id": "7c5da976",
   "metadata": {},
   "source": [
    "# ----------------------------------------"
   ]
  }
 ],
 "metadata": {
  "kernelspec": {
   "display_name": "Python 3 (ipykernel)",
   "language": "python",
   "name": "python3"
  },
  "language_info": {
   "codemirror_mode": {
    "name": "ipython",
    "version": 3
   },
   "file_extension": ".py",
   "mimetype": "text/x-python",
   "name": "python",
   "nbconvert_exporter": "python",
   "pygments_lexer": "ipython3",
   "version": "3.9.6"
  }
 },
 "nbformat": 4,
 "nbformat_minor": 5
}
