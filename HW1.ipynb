{
 "cells": [
  {
   "cell_type": "code",
   "execution_count": 1,
   "id": "0c485a18",
   "metadata": {},
   "outputs": [],
   "source": [
    "import numpy as np"
   ]
  },
  {
   "cell_type": "code",
   "execution_count": 7,
   "id": "5440fbe9",
   "metadata": {},
   "outputs": [
    {
     "name": "stdout",
     "output_type": "stream",
     "text": [
      "[2.  8.4]\n"
     ]
    }
   ],
   "source": [
    "# Task1\n",
    "a = np.array([[1,6],\n",
    "            [2,8],\n",
    "            [3,11],\n",
    "            [3,10],\n",
    "            [1,7]])\n",
    "mean_a = a.mean(axis=0)\n",
    "print(mean_a)"
   ]
  },
  {
   "cell_type": "code",
   "execution_count": 8,
   "id": "98b5745f",
   "metadata": {},
   "outputs": [
    {
     "name": "stdout",
     "output_type": "stream",
     "text": [
      "[[-1.  -2.4]\n",
      " [ 0.  -0.4]\n",
      " [ 1.   2.6]\n",
      " [ 1.   1.6]\n",
      " [-1.  -1.4]]\n"
     ]
    }
   ],
   "source": [
    "# Task2\n",
    "a_centered = a - mean_a\n",
    "print(a_centered)"
   ]
  },
  {
   "cell_type": "code",
   "execution_count": 26,
   "id": "15fe5b2b",
   "metadata": {},
   "outputs": [
    {
     "name": "stdout",
     "output_type": "stream",
     "text": [
      "a_centered_sp =  92\n",
      "a_cov1 =  23.0\n"
     ]
    }
   ],
   "source": [
    "# Task3\n",
    "a_centered_sp = a[:,0] @ a[:,1]\n",
    "print('a_centered_sp = ', a_centered_sp)\n",
    "a_cov1 = a_centered_sp / (a.shape[0] - 1)\n",
    "print('a_cov1 = ', a_cov1)\n"
   ]
  },
  {
   "cell_type": "code",
   "execution_count": 32,
   "id": "02bc879c",
   "metadata": {},
   "outputs": [
    {
     "data": {
      "text/plain": [
       "2.0"
      ]
     },
     "execution_count": 32,
     "metadata": {},
     "output_type": "execute_result"
    }
   ],
   "source": [
    "# Task4\n",
    "a_cov = np.cov(a.T)\n",
    "a_cov2 = a_cov[0,1]\n",
    "a_cov2"
   ]
  }
 ],
 "metadata": {
  "kernelspec": {
   "display_name": "Python 3 (ipykernel)",
   "language": "python",
   "name": "python3"
  },
  "language_info": {
   "codemirror_mode": {
    "name": "ipython",
    "version": 3
   },
   "file_extension": ".py",
   "mimetype": "text/x-python",
   "name": "python",
   "nbconvert_exporter": "python",
   "pygments_lexer": "ipython3",
   "version": "3.9.6"
  }
 },
 "nbformat": 4,
 "nbformat_minor": 5
}
